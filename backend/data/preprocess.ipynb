{
 "cells": [
  {
   "cell_type": "code",
   "execution_count": 11,
   "metadata": {},
   "outputs": [],
   "source": [
    "import pandas as pd\n",
    "import numpy as np"
   ]
  },
  {
   "cell_type": "code",
   "execution_count": 12,
   "metadata": {},
   "outputs": [],
   "source": [
    "house = pd.read_csv(\"house.csv\")\n",
    "item = pd.read_csv(\"item.csv\")\n",
    "house_item = pd.read_csv(\"hi_interaction.csv\")\n",
    "house_card = pd.read_csv(\"hc_interaction.csv\")\n",
    "card = pd.read_csv(\"card.csv\")"
   ]
  },
  {
   "attachments": {},
   "cell_type": "markdown",
   "metadata": {},
   "source": [
    "# house와 card 1:1 매칭된 새로운 house 생성"
   ]
  },
  {
   "cell_type": "code",
   "execution_count": 13,
   "metadata": {},
   "outputs": [],
   "source": [
    "house = house.rename(columns={\"공간\":\"space\", \"평수\":\"size\", \"작업\":\"work\", \"분야\":\"category\", \"가족형태\":\"family\", \"지역\":\"region\", \"스타일\":\"style\", \"기간\":\"duration\",\"예산\":\"budget\",\"세부공사\":\"detail\",\"좋아요\":\"prefer\",\"스크랩\":\"scrab\",\"댓글\":\"comment\",\"조회\":\"views\"})"
   ]
  },
  {
   "cell_type": "code",
   "execution_count": 14,
   "metadata": {},
   "outputs": [],
   "source": [
    "hc_temp = {i:j for i, j in zip(house_card.card.values, house_card.house.values)}\n",
    "card['house_id'] = card.card.map(hc_temp)\n",
    "\n",
    "house.views = house.views.apply(lambda x: x.replace(',', ''))\n",
    "house.scrab = house.scrab.apply(lambda x: x.replace(',', ''))\n",
    "house.prefer = house.prefer.apply(lambda x: x.replace(',', ''))\n",
    "\n",
    "house.views = pd.to_numeric(house.views)\n",
    "house.scrab = pd.to_numeric(house.scrab)\n",
    "house.prefer = pd.to_numeric(house.prefer)"
   ]
  },
  {
   "attachments": {},
   "cell_type": "markdown",
   "metadata": {},
   "source": [
    "# item.csv 전처리"
   ]
  },
  {
   "cell_type": "code",
   "execution_count": 15,
   "metadata": {},
   "outputs": [],
   "source": [
    "item = item.fillna(np.nan)"
   ]
  },
  {
   "attachments": {},
   "cell_type": "markdown",
   "metadata": {},
   "source": [
    "## predict_price 예상가격만 남기기"
   ]
  },
  {
   "cell_type": "code",
   "execution_count": 16,
   "metadata": {},
   "outputs": [],
   "source": [
    "predict_price_list = []\n",
    "\n",
    "import re\n",
    "p = re.compile('.+(?=사)')\n",
    "for i in item.predict_price.index:\n",
    "    m = p.findall(str(item.predict_price.iloc[i]))\n",
    "    if len(m) == 0:\n",
    "        m.append(\"예상가정보없음\")\n",
    "    predict_price_list.append(m[0][3:])"
   ]
  },
  {
   "cell_type": "code",
   "execution_count": 17,
   "metadata": {},
   "outputs": [],
   "source": [
    "item.predict_price = predict_price_list"
   ]
  },
  {
   "attachments": {},
   "cell_type": "markdown",
   "metadata": {},
   "source": [
    "## 별점 숫자만 남기기"
   ]
  },
  {
   "cell_type": "code",
   "execution_count": 18,
   "metadata": {},
   "outputs": [],
   "source": [
    "item.rating = item.rating.apply(lambda x: str(x)[3:-1])"
   ]
  },
  {
   "cell_type": "code",
   "execution_count": 19,
   "metadata": {},
   "outputs": [],
   "source": [
    "item.rating = item.rating.apply(lambda x: np.nan if x == '' else x)"
   ]
  },
  {
   "attachments": {},
   "cell_type": "markdown",
   "metadata": {},
   "source": [
    "## review 리뷰 개수만 남기기"
   ]
  },
  {
   "cell_type": "code",
   "execution_count": 20,
   "metadata": {},
   "outputs": [],
   "source": [
    "item.review = item.review.fillna(\"리뷰 쓰기첫 리뷰 두 배 적립\")"
   ]
  },
  {
   "cell_type": "code",
   "execution_count": 21,
   "metadata": {},
   "outputs": [],
   "source": [
    "review_list = []\n",
    "\n",
    "import re\n",
    "p = re.compile('[(][0-9]*[)]')\n",
    "for idx, review in enumerate(item.review):\n",
    "    m = p.findall(review)\n",
    "    if len(m) == 0:\n",
    "        m.append(\"(0)\")\n",
    "    review_list.append(m[0][1:-1])\n",
    "\n",
    "item.review = review_list"
   ]
  },
  {
   "attachments": {},
   "cell_type": "markdown",
   "metadata": {},
   "source": [
    "## 카테고리 결측값 기타로, 쌍따옴표 들어가는 경우 제거"
   ]
  },
  {
   "cell_type": "code",
   "execution_count": 22,
   "metadata": {},
   "outputs": [],
   "source": [
    "item.fillna(\"기타\", inplace=True)"
   ]
  },
  {
   "cell_type": "code",
   "execution_count": 23,
   "metadata": {},
   "outputs": [],
   "source": [
    "item.category = item.category.apply(lambda x: x.split('|')[0].strip('\"'))"
   ]
  },
  {
   "attachments": {},
   "cell_type": "markdown",
   "metadata": {},
   "source": [
    "# house.csv"
   ]
  },
  {
   "cell_type": "code",
   "execution_count": 24,
   "metadata": {},
   "outputs": [],
   "source": [
    "house[\"size\"] = house[\"size\"].fillna(\"0평\").apply(lambda x:int(x.rstrip(\"평대이상하미만 \")))"
   ]
  },
  {
   "attachments": {},
   "cell_type": "markdown",
   "metadata": {},
   "source": [
    "# csv 파일 추출"
   ]
  },
  {
   "cell_type": "code",
   "execution_count": 26,
   "metadata": {},
   "outputs": [],
   "source": [
    "item.to_csv(\"item.tsv\", sep=\"\\t\", index=False)\n",
    "house.to_csv(\"house.tsv\", sep=\"\\t\", index=False)\n",
    "card.to_csv(\"card.tsv\", sep=\"\\t\", index=False)"
   ]
  }
 ],
 "metadata": {
  "kernelspec": {
   "display_name": "base",
   "language": "python",
   "name": "python3"
  },
  "language_info": {
   "codemirror_mode": {
    "name": "ipython",
    "version": 3
   },
   "file_extension": ".py",
   "mimetype": "text/x-python",
   "name": "python",
   "nbconvert_exporter": "python",
   "pygments_lexer": "ipython3",
   "version": "3.9.13"
  },
  "orig_nbformat": 4,
  "vscode": {
   "interpreter": {
    "hash": "a077222d77dfe082b8f1dd562ad70e458ac2ab76993a0b248ab0476e32e9e8dd"
   }
  }
 },
 "nbformat": 4,
 "nbformat_minor": 2
}
