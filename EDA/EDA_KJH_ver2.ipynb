{
 "cells": [
  {
   "cell_type": "code",
   "execution_count": 46,
   "metadata": {},
   "outputs": [],
   "source": [
    "import pandas as pd\n",
    "from tqdm import tqdm"
   ]
  },
  {
   "cell_type": "code",
   "execution_count": 47,
   "metadata": {},
   "outputs": [],
   "source": [
    "from difflib import SequenceMatcher\n",
    "\n",
    "def similar(a, b):\n",
    "    return SequenceMatcher(None, a, b).ratio()\n",
    "\n",
    "def jaccard_similarity(text1, text2):\n",
    "    text1_set = set(text1)\n",
    "    text2_set = set(text2)\n",
    "    intersection = text1_set.intersection(text2_set)\n",
    "    union = text1_set.union(text2_set)\n",
    "    return len(intersection) / len(union)"
   ]
  },
  {
   "cell_type": "code",
   "execution_count": 48,
   "metadata": {},
   "outputs": [],
   "source": [
    "# TODO 전처리한 title의 similarity를 계산합니다. -> 전처리 title을 기준으로 item df를 sort합니다 -> 게슈탈트 패턴 매칭 알고리즘을 사용해서 계산합니다. -> 이는 재사용을 위해 pickle 객체로 저장합니다.\n",
    "# TODO item df를 전처리한 title 기준으로 sort 후에, 마찬가지로 전처리한 title 기준으로 정렬된 pickle 객체를 불러와서 merge합니다.\n",
    "# TODO 추천에 활용하지 않을 category 목록들을 필터링합니다.\n",
    "# TODO 필터링 이후, similarity에 대한 BFS 알고리즘을 적용합니다 -> 이전에 구한 similarity가 전체 item을 기준으로 구해졌기 때문에, 예외 처리를 해줘야 합니다.\n",
    "# TODO BFS 알고리즘을 통해 찾아낸 clustering group을 만들어주고, \"ETC\"나 \"etc\"로 group된 item들은 -1로 변환합니다.\n",
    "# TODO house_interaction에 클러스터 결과를 merge해줍니다. 이때, 클러스터 그룹이 -1이거나 house_interaction에만 포함된 item들은 cluster_id.max() + 1을 더해줍니다.\n",
    "# TODO model을 학습해서 학습한 결과를 backend에 반영합니다.\n",
    "# TODO cluster-major-item list를 생성합니다."
   ]
  },
  {
   "cell_type": "code",
   "execution_count": 49,
   "metadata": {},
   "outputs": [],
   "source": [
    "item = pd.read_csv(f\"title_preprocessed_item_93886.csv\")"
   ]
  },
  {
   "cell_type": "code",
   "execution_count": 50,
   "metadata": {},
   "outputs": [],
   "source": [
    "item.sort_values(\"preprocessed_title\", inplace=True)"
   ]
  },
  {
   "cell_type": "code",
   "execution_count": 51,
   "metadata": {},
   "outputs": [
    {
     "data": {
      "text/plain": [
       "147780"
      ]
     },
     "execution_count": 51,
     "metadata": {},
     "output_type": "execute_result"
    }
   ],
   "source": [
    "len(item)"
   ]
  },
  {
   "cell_type": "code",
   "execution_count": 52,
   "metadata": {},
   "outputs": [],
   "source": [
    "item.preprocessed_title.fillna(\"etc\", inplace=True)\n",
    "item.preprocessed_title = item.preprocessed_title.str.lower()"
   ]
  },
  {
   "cell_type": "code",
   "execution_count": 55,
   "metadata": {},
   "outputs": [
    {
     "name": "stderr",
     "output_type": "stream",
     "text": [
      "147681it [22:37, 108.75it/s]\n"
     ]
    }
   ],
   "source": [
    "window = 100\n",
    "threshold = 0.7\n",
    "\n",
    "sim_list = []\n",
    "\n",
    "for i, (id, t) in tqdm(enumerate(zip(item.item[:len(item) - window + 1], item.preprocessed_title[:len(item) - window + 1]))):\n",
    "    word = t\n",
    "    tmp = []\n",
    "    for j, (id_, t_) in enumerate(zip(item.item[i + 1:i + window], item.preprocessed_title[i + 1:i + window])):\n",
    "        compare = t_\n",
    "        similarity = similar(word, compare)\n",
    "        if similarity >= threshold:\n",
    "            tmp.append([word, compare, id_, similarity])\n",
    "    sim_list.append(tmp)"
   ]
  },
  {
   "cell_type": "code",
   "execution_count": 70,
   "metadata": {},
   "outputs": [
    {
     "name": "stderr",
     "output_type": "stream",
     "text": [
      "99it [00:00, 362.34it/s]\n"
     ]
    }
   ],
   "source": [
    "start = len(sim_list)\n",
    "end = len(item)\n",
    "\n",
    "sim_list2 = []\n",
    "\n",
    "for i, (id, t) in tqdm(enumerate(zip(item.item[start:end], item.preprocessed_title[start:end]))):\n",
    "    word = t\n",
    "    tmp = []\n",
    "    for j, (id_, t_) in enumerate(zip(item.item[i + start + 1:end], item.preprocessed_title[i + start + 1:end])):\n",
    "        compare = t_\n",
    "        similarity = similar(word, compare)\n",
    "        if similarity >= threshold:\n",
    "            tmp.append([word, compare, id_, similarity])\n",
    "    sim_list2.append(tmp)"
   ]
  },
  {
   "cell_type": "code",
   "execution_count": 72,
   "metadata": {},
   "outputs": [],
   "source": [
    "data = sim_list[:]\n",
    "for d in sim_list2:\n",
    "    data.append(d)"
   ]
  },
  {
   "cell_type": "code",
   "execution_count": 74,
   "metadata": {},
   "outputs": [
    {
     "data": {
      "text/plain": [
       "147780"
      ]
     },
     "execution_count": 74,
     "metadata": {},
     "output_type": "execute_result"
    }
   ],
   "source": [
    "len(data)"
   ]
  },
  {
   "cell_type": "code",
   "execution_count": 75,
   "metadata": {},
   "outputs": [],
   "source": [
    "import pickle\n",
    "from time import time\n",
    "from difflib import SequenceMatcher\n",
    "import pickle\n",
    "\n",
    "# now = str(round(time()))[5:]\n",
    "with open(f\"similarity_{now}.pickle\",\"wb\") as pkl:\n",
    "    pickle.dump(data, pkl)"
   ]
  },
  {
   "cell_type": "code",
   "execution_count": 76,
   "metadata": {},
   "outputs": [],
   "source": [
    "with open(f\"similarity_{now}.pickle\", \"rb\") as pkl:\n",
    "    d = pickle.load(pkl)"
   ]
  },
  {
   "cell_type": "code",
   "execution_count": 77,
   "metadata": {},
   "outputs": [
    {
     "data": {
      "text/plain": [
       "147780"
      ]
     },
     "execution_count": 77,
     "metadata": {},
     "output_type": "execute_result"
    }
   ],
   "source": [
    "len(d)"
   ]
  },
  {
   "cell_type": "code",
   "execution_count": 78,
   "metadata": {},
   "outputs": [],
   "source": [
    "item[\"similarity_list\"] = data"
   ]
  },
  {
   "cell_type": "code",
   "execution_count": 79,
   "metadata": {},
   "outputs": [],
   "source": [
    "item.to_csv(f\"similarity_item_{now}.csv\", index=False)"
   ]
  },
  {
   "cell_type": "code",
   "execution_count": 80,
   "metadata": {},
   "outputs": [
    {
     "data": {
      "text/html": [
       "<div>\n",
       "<style scoped>\n",
       "    .dataframe tbody tr th:only-of-type {\n",
       "        vertical-align: middle;\n",
       "    }\n",
       "\n",
       "    .dataframe tbody tr th {\n",
       "        vertical-align: top;\n",
       "    }\n",
       "\n",
       "    .dataframe thead th {\n",
       "        text-align: right;\n",
       "    }\n",
       "</style>\n",
       "<table border=\"1\" class=\"dataframe\">\n",
       "  <thead>\n",
       "    <tr style=\"text-align: right;\">\n",
       "      <th></th>\n",
       "      <th>item</th>\n",
       "      <th>category</th>\n",
       "      <th>rating</th>\n",
       "      <th>review</th>\n",
       "      <th>price</th>\n",
       "      <th>preprocessed_title</th>\n",
       "      <th>seller</th>\n",
       "      <th>discount_rate</th>\n",
       "      <th>image</th>\n",
       "      <th>available_product</th>\n",
       "      <th>predict_price</th>\n",
       "      <th>original_title</th>\n",
       "      <th>similarity_list</th>\n",
       "    </tr>\n",
       "  </thead>\n",
       "  <tbody>\n",
       "    <tr>\n",
       "      <th>42312</th>\n",
       "      <td>226754</td>\n",
       "      <td>유아·아동|완구·교구|신생아·영아완구</td>\n",
       "      <td>별점 0.0점</td>\n",
       "      <td>리뷰 쓰기첫 리뷰 두 배 적립</td>\n",
       "      <td>NaN</td>\n",
       "      <td>0 개월 한글 영어</td>\n",
       "      <td>FINDEN BEBE(핀데베베)</td>\n",
       "      <td>NaN</td>\n",
       "      <td>https://image.ohou.se/i/bucketplace-v2-develop...</td>\n",
       "      <td>미입점</td>\n",
       "      <td>예상가799,000사이즈정보없음출처smartstore.naver.com</td>\n",
       "      <td>0~36개월/한글영어</td>\n",
       "      <td>[]</td>\n",
       "    </tr>\n",
       "    <tr>\n",
       "      <th>6157</th>\n",
       "      <td>15438</td>\n",
       "      <td>NaN</td>\n",
       "      <td>별점 0.0점</td>\n",
       "      <td>리뷰 쓰기첫 리뷰 두 배 적립</td>\n",
       "      <td>NaN</td>\n",
       "      <td>0 레토 테이블</td>\n",
       "      <td>0.6레토</td>\n",
       "      <td>NaN</td>\n",
       "      <td>https://image.ohou.se/i/bucketplace-v2-develop...</td>\n",
       "      <td>미입점</td>\n",
       "      <td>예상가100,500사이즈정보없음출처www.ssg.com</td>\n",
       "      <td>0.6레토 테이블</td>\n",
       "      <td>[]</td>\n",
       "    </tr>\n",
       "    <tr>\n",
       "      <th>146064</th>\n",
       "      <td>1684565</td>\n",
       "      <td>가전·디지털|계절가전|전기히터·온풍기|온풍기</td>\n",
       "      <td>별점 0.0점</td>\n",
       "      <td>리뷰 쓰기첫 리뷰 두 배 적립</td>\n",
       "      <td>210,000원</td>\n",
       "      <td>0 리플렉 트 에코 히터 돼지 코 증정</td>\n",
       "      <td>플러스마이너스제로</td>\n",
       "      <td>30%</td>\n",
       "      <td>https://image.ohou.se/i/bucketplace-v2-develop...</td>\n",
       "      <td>NaN</td>\n",
       "      <td>NaN</td>\n",
       "      <td>[해외] ±0 리플렉트 에코 히터 (돼지코증정)</td>\n",
       "      <td>[]</td>\n",
       "    </tr>\n",
       "  </tbody>\n",
       "</table>\n",
       "</div>"
      ],
      "text/plain": [
       "           item                  category   rating            review  \\\n",
       "42312    226754      유아·아동|완구·교구|신생아·영아완구  별점 0.0점  리뷰 쓰기첫 리뷰 두 배 적립   \n",
       "6157      15438                       NaN  별점 0.0점  리뷰 쓰기첫 리뷰 두 배 적립   \n",
       "146064  1684565  가전·디지털|계절가전|전기히터·온풍기|온풍기  별점 0.0점  리뷰 쓰기첫 리뷰 두 배 적립   \n",
       "\n",
       "           price     preprocessed_title              seller discount_rate  \\\n",
       "42312        NaN             0 개월 한글 영어  FINDEN BEBE(핀데베베)            NaN   \n",
       "6157         NaN               0 레토 테이블              0.6레토            NaN   \n",
       "146064  210,000원  0 리플렉 트 에코 히터 돼지 코 증정          플러스마이너스제로            30%   \n",
       "\n",
       "                                                    image available_product  \\\n",
       "42312   https://image.ohou.se/i/bucketplace-v2-develop...               미입점   \n",
       "6157    https://image.ohou.se/i/bucketplace-v2-develop...               미입점   \n",
       "146064  https://image.ohou.se/i/bucketplace-v2-develop...               NaN   \n",
       "\n",
       "                                  predict_price              original_title  \\\n",
       "42312   예상가799,000사이즈정보없음출처smartstore.naver.com                 0~36개월/한글영어   \n",
       "6157             예상가100,500사이즈정보없음출처www.ssg.com                   0.6레토 테이블   \n",
       "146064                                      NaN  [해외] ±0 리플렉트 에코 히터 (돼지코증정)   \n",
       "\n",
       "       similarity_list  \n",
       "42312               []  \n",
       "6157                []  \n",
       "146064              []  "
      ]
     },
     "execution_count": 80,
     "metadata": {},
     "output_type": "execute_result"
    }
   ],
   "source": [
    "item.head(3)"
   ]
  },
  {
   "cell_type": "code",
   "execution_count": null,
   "metadata": {},
   "outputs": [],
   "source": []
  }
 ],
 "metadata": {
  "kernelspec": {
   "display_name": "base",
   "language": "python",
   "name": "python3"
  },
  "language_info": {
   "codemirror_mode": {
    "name": "ipython",
    "version": 3
   },
   "file_extension": ".py",
   "mimetype": "text/x-python",
   "name": "python",
   "nbconvert_exporter": "python",
   "pygments_lexer": "ipython3",
   "version": "3.8.5 (default, Sep  4 2020, 07:30:14) \n[GCC 7.3.0]"
  },
  "orig_nbformat": 4,
  "vscode": {
   "interpreter": {
    "hash": "d4d1e4263499bec80672ea0156c357c1ee493ec2b1c70f0acce89fc37c4a6abe"
   }
  }
 },
 "nbformat": 4,
 "nbformat_minor": 2
}
