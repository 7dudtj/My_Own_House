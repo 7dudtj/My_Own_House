{
 "cells": [
  {
   "cell_type": "code",
   "execution_count": 56,
   "metadata": {},
   "outputs": [],
   "source": [
    "import pandas as pd\n",
    "from tqdm import tqdm"
   ]
  },
  {
   "cell_type": "code",
   "execution_count": 57,
   "metadata": {},
   "outputs": [],
   "source": [
    "# TODO house_interaction에 클러스터 결과를 merge해줍니다. 이때, 클러스터 그룹이 -1이거나 house_interaction에만 포함된 item들은 cluster_id.max() + 1을 더해줍니다.\n",
    "# TODO model을 학습해서 학습한 결과를 backend에 반영합니다.\n",
    "# TODO cluster-major-item list를 생성합니다."
   ]
  },
  {
   "cell_type": "code",
   "execution_count": 58,
   "metadata": {},
   "outputs": [],
   "source": [
    "item = pd.read_csv(\"/opt/ml/input/final/EDA/clustered_item_32715.csv\")\n",
    "train = pd.read_csv(\"/opt/ml/input/data/hi_interaction.csv\")"
   ]
  },
  {
   "cell_type": "code",
   "execution_count": 59,
   "metadata": {},
   "outputs": [
    {
     "data": {
      "text/html": [
       "<div>\n",
       "<style scoped>\n",
       "    .dataframe tbody tr th:only-of-type {\n",
       "        vertical-align: middle;\n",
       "    }\n",
       "\n",
       "    .dataframe tbody tr th {\n",
       "        vertical-align: top;\n",
       "    }\n",
       "\n",
       "    .dataframe thead th {\n",
       "        text-align: right;\n",
       "    }\n",
       "</style>\n",
       "<table border=\"1\" class=\"dataframe\">\n",
       "  <thead>\n",
       "    <tr style=\"text-align: right;\">\n",
       "      <th></th>\n",
       "      <th>item</th>\n",
       "      <th>category</th>\n",
       "      <th>rating</th>\n",
       "      <th>review</th>\n",
       "      <th>price</th>\n",
       "      <th>preprocessed_title</th>\n",
       "      <th>seller</th>\n",
       "      <th>discount_rate</th>\n",
       "      <th>image</th>\n",
       "      <th>available_product</th>\n",
       "      <th>predict_price</th>\n",
       "      <th>original_title</th>\n",
       "      <th>similar_item_list</th>\n",
       "      <th>cls_id</th>\n",
       "    </tr>\n",
       "  </thead>\n",
       "  <tbody>\n",
       "    <tr>\n",
       "      <th>0</th>\n",
       "      <td>1</td>\n",
       "      <td>가구|서랍·수납장|수납장</td>\n",
       "      <td>별점 4.2점</td>\n",
       "      <td>(67)개 리뷰</td>\n",
       "      <td>NaN</td>\n",
       "      <td>66808</td>\n",
       "      <td>DRAWER</td>\n",
       "      <td>NaN</td>\n",
       "      <td>https://image.ohou.se/i/bucketplace-v2-develop...</td>\n",
       "      <td>미입점</td>\n",
       "      <td>예상가정보없음사이즈59.0 × 37.0 × 90.0 (cm)출처www.casa.co.kr</td>\n",
       "      <td>66808</td>\n",
       "      <td>NaN</td>\n",
       "      <td>-1</td>\n",
       "    </tr>\n",
       "  </tbody>\n",
       "</table>\n",
       "</div>"
      ],
      "text/plain": [
       "   item       category   rating    review price preprocessed_title   seller  \\\n",
       "0     1  가구|서랍·수납장|수납장  별점 4.2점  (67)개 리뷰   NaN              66808  DRAWER    \n",
       "\n",
       "  discount_rate                                              image  \\\n",
       "0           NaN  https://image.ohou.se/i/bucketplace-v2-develop...   \n",
       "\n",
       "  available_product                                      predict_price  \\\n",
       "0               미입점  예상가정보없음사이즈59.0 × 37.0 × 90.0 (cm)출처www.casa.co.kr   \n",
       "\n",
       "  original_title similar_item_list  cls_id  \n",
       "0          66808               NaN      -1  "
      ]
     },
     "execution_count": 59,
     "metadata": {},
     "output_type": "execute_result"
    }
   ],
   "source": [
    "item.head(1)"
   ]
  },
  {
   "cell_type": "code",
   "execution_count": 60,
   "metadata": {},
   "outputs": [
    {
     "data": {
      "text/html": [
       "<div>\n",
       "<style scoped>\n",
       "    .dataframe tbody tr th:only-of-type {\n",
       "        vertical-align: middle;\n",
       "    }\n",
       "\n",
       "    .dataframe tbody tr th {\n",
       "        vertical-align: top;\n",
       "    }\n",
       "\n",
       "    .dataframe thead th {\n",
       "        text-align: right;\n",
       "    }\n",
       "</style>\n",
       "<table border=\"1\" class=\"dataframe\">\n",
       "  <thead>\n",
       "    <tr style=\"text-align: right;\">\n",
       "      <th></th>\n",
       "      <th>house</th>\n",
       "      <th>item</th>\n",
       "    </tr>\n",
       "  </thead>\n",
       "  <tbody>\n",
       "    <tr>\n",
       "      <th>0</th>\n",
       "      <td>318</td>\n",
       "      <td>55</td>\n",
       "    </tr>\n",
       "  </tbody>\n",
       "</table>\n",
       "</div>"
      ],
      "text/plain": [
       "   house  item\n",
       "0    318    55"
      ]
     },
     "execution_count": 60,
     "metadata": {},
     "output_type": "execute_result"
    }
   ],
   "source": [
    "train.head(1)"
   ]
  },
  {
   "cell_type": "code",
   "execution_count": 61,
   "metadata": {},
   "outputs": [
    {
     "data": {
      "text/plain": [
       "8740"
      ]
     },
     "execution_count": 61,
     "metadata": {},
     "output_type": "execute_result"
    }
   ],
   "source": [
    "item.cls_id.nunique()"
   ]
  },
  {
   "cell_type": "code",
   "execution_count": 62,
   "metadata": {},
   "outputs": [
    {
     "data": {
      "text/plain": [
       "88634"
      ]
     },
     "execution_count": 62,
     "metadata": {},
     "output_type": "execute_result"
    }
   ],
   "source": [
    "item.item.nunique()"
   ]
  },
  {
   "cell_type": "code",
   "execution_count": 63,
   "metadata": {},
   "outputs": [
    {
     "data": {
      "text/plain": [
       "412784"
      ]
     },
     "execution_count": 63,
     "metadata": {},
     "output_type": "execute_result"
    }
   ],
   "source": [
    "len(train)"
   ]
  },
  {
   "cell_type": "code",
   "execution_count": 64,
   "metadata": {},
   "outputs": [],
   "source": [
    "# item에 포함되지 않은 hi_interaction item을 제거하기\n",
    "train = train[train.item.isin(item.item.unique())]"
   ]
  },
  {
   "cell_type": "code",
   "execution_count": 65,
   "metadata": {},
   "outputs": [
    {
     "data": {
      "text/plain": [
       "257305"
      ]
     },
     "execution_count": 65,
     "metadata": {},
     "output_type": "execute_result"
    }
   ],
   "source": [
    "len(train)"
   ]
  },
  {
   "cell_type": "code",
   "execution_count": 66,
   "metadata": {},
   "outputs": [
    {
     "data": {
      "text/plain": [
       "9190"
      ]
     },
     "execution_count": 66,
     "metadata": {},
     "output_type": "execute_result"
    }
   ],
   "source": [
    "item.cls_id.max()"
   ]
  },
  {
   "cell_type": "code",
   "execution_count": 12,
   "metadata": {},
   "outputs": [
    {
     "data": {
      "text/plain": [
       "63595"
      ]
     },
     "execution_count": 12,
     "metadata": {},
     "output_type": "execute_result"
    }
   ],
   "source": [
    "len(item[item.cls_id == -1])"
   ]
  },
  {
   "cell_type": "code",
   "execution_count": 13,
   "metadata": {},
   "outputs": [],
   "source": [
    "dummy = list()\n",
    "c = item.cls_id.max()\n",
    "\n",
    "for i in range(len(item[item.cls_id == -1])):\n",
    "    dummy.append(i + c + 1)"
   ]
  },
  {
   "cell_type": "code",
   "execution_count": 14,
   "metadata": {},
   "outputs": [],
   "source": [
    "item.loc[item.cls_id == -1, \"cls_id\"] = dummy"
   ]
  },
  {
   "cell_type": "code",
   "execution_count": 15,
   "metadata": {},
   "outputs": [
    {
     "data": {
      "text/html": [
       "<div>\n",
       "<style scoped>\n",
       "    .dataframe tbody tr th:only-of-type {\n",
       "        vertical-align: middle;\n",
       "    }\n",
       "\n",
       "    .dataframe tbody tr th {\n",
       "        vertical-align: top;\n",
       "    }\n",
       "\n",
       "    .dataframe thead th {\n",
       "        text-align: right;\n",
       "    }\n",
       "</style>\n",
       "<table border=\"1\" class=\"dataframe\">\n",
       "  <thead>\n",
       "    <tr style=\"text-align: right;\">\n",
       "      <th></th>\n",
       "      <th>item</th>\n",
       "      <th>category</th>\n",
       "      <th>rating</th>\n",
       "      <th>review</th>\n",
       "      <th>price</th>\n",
       "      <th>preprocessed_title</th>\n",
       "      <th>seller</th>\n",
       "      <th>discount_rate</th>\n",
       "      <th>image</th>\n",
       "      <th>available_product</th>\n",
       "      <th>predict_price</th>\n",
       "      <th>original_title</th>\n",
       "      <th>similar_item_list</th>\n",
       "      <th>cls_id</th>\n",
       "    </tr>\n",
       "  </thead>\n",
       "  <tbody>\n",
       "    <tr>\n",
       "      <th>0</th>\n",
       "      <td>1</td>\n",
       "      <td>가구|서랍·수납장|수납장</td>\n",
       "      <td>별점 4.2점</td>\n",
       "      <td>(67)개 리뷰</td>\n",
       "      <td>NaN</td>\n",
       "      <td>66808</td>\n",
       "      <td>DRAWER</td>\n",
       "      <td>NaN</td>\n",
       "      <td>https://image.ohou.se/i/bucketplace-v2-develop...</td>\n",
       "      <td>미입점</td>\n",
       "      <td>예상가정보없음사이즈59.0 × 37.0 × 90.0 (cm)출처www.casa.co.kr</td>\n",
       "      <td>66808</td>\n",
       "      <td>NaN</td>\n",
       "      <td>9191</td>\n",
       "    </tr>\n",
       "    <tr>\n",
       "      <th>1</th>\n",
       "      <td>4</td>\n",
       "      <td>데코·식물|시계|벽시계</td>\n",
       "      <td>별점 0.0점</td>\n",
       "      <td>리뷰 쓰기첫 리뷰 두 배 적립</td>\n",
       "      <td>NaN</td>\n",
       "      <td>118400</td>\n",
       "      <td>우드피아</td>\n",
       "      <td>NaN</td>\n",
       "      <td>https://image.ohou.se/i/bucketplace-v2-develop...</td>\n",
       "      <td>미입점</td>\n",
       "      <td>예상가정보없음사이즈22.0 × 22.0 × 1.5 (cm)출처www.11st.co.kr</td>\n",
       "      <td>118400</td>\n",
       "      <td>NaN</td>\n",
       "      <td>9192</td>\n",
       "    </tr>\n",
       "    <tr>\n",
       "      <th>2</th>\n",
       "      <td>8</td>\n",
       "      <td>가구|거실장·TV장|일반거실장</td>\n",
       "      <td>별점 0.0점</td>\n",
       "      <td>리뷰 쓰기첫 리뷰 두 배 적립</td>\n",
       "      <td>NaN</td>\n",
       "      <td>131836</td>\n",
       "      <td>DOICH(도이치)</td>\n",
       "      <td>NaN</td>\n",
       "      <td>https://image.ohou.se/i/bucketplace-v2-develop...</td>\n",
       "      <td>미입점</td>\n",
       "      <td>예상가정보없음사이즈165.0 × 40.0 × 37.5 (cm)출처m.doich.co.kr</td>\n",
       "      <td>131836</td>\n",
       "      <td>NaN</td>\n",
       "      <td>9193</td>\n",
       "    </tr>\n",
       "  </tbody>\n",
       "</table>\n",
       "</div>"
      ],
      "text/plain": [
       "   item          category   rating            review price preprocessed_title  \\\n",
       "0     1     가구|서랍·수납장|수납장  별점 4.2점          (67)개 리뷰   NaN              66808   \n",
       "1     4      데코·식물|시계|벽시계  별점 0.0점  리뷰 쓰기첫 리뷰 두 배 적립   NaN             118400   \n",
       "2     8  가구|거실장·TV장|일반거실장  별점 0.0점  리뷰 쓰기첫 리뷰 두 배 적립   NaN             131836   \n",
       "\n",
       "        seller discount_rate  \\\n",
       "0      DRAWER            NaN   \n",
       "1        우드피아            NaN   \n",
       "2  DOICH(도이치)            NaN   \n",
       "\n",
       "                                               image available_product  \\\n",
       "0  https://image.ohou.se/i/bucketplace-v2-develop...               미입점   \n",
       "1  https://image.ohou.se/i/bucketplace-v2-develop...               미입점   \n",
       "2  https://image.ohou.se/i/bucketplace-v2-develop...               미입점   \n",
       "\n",
       "                                       predict_price original_title  \\\n",
       "0  예상가정보없음사이즈59.0 × 37.0 × 90.0 (cm)출처www.casa.co.kr          66808   \n",
       "1   예상가정보없음사이즈22.0 × 22.0 × 1.5 (cm)출처www.11st.co.kr         118400   \n",
       "2  예상가정보없음사이즈165.0 × 40.0 × 37.5 (cm)출처m.doich.co.kr         131836   \n",
       "\n",
       "  similar_item_list  cls_id  \n",
       "0               NaN    9191  \n",
       "1               NaN    9192  \n",
       "2               NaN    9193  "
      ]
     },
     "execution_count": 15,
     "metadata": {},
     "output_type": "execute_result"
    }
   ],
   "source": [
    "item.head(3)"
   ]
  },
  {
   "cell_type": "code",
   "execution_count": null,
   "metadata": {},
   "outputs": [],
   "source": [
    "item.cls_id.nunique()"
   ]
  },
  {
   "cell_type": "code",
   "execution_count": 16,
   "metadata": {},
   "outputs": [],
   "source": [
    "item2cls = {item_id:cls_id for item_id, cls_id in zip(item.item, item.cls_id)}"
   ]
  },
  {
   "cell_type": "code",
   "execution_count": 17,
   "metadata": {},
   "outputs": [],
   "source": [
    "train[\"cluster_id\"] = train.item.map(item2cls)"
   ]
  },
  {
   "cell_type": "code",
   "execution_count": 18,
   "metadata": {},
   "outputs": [
    {
     "data": {
      "text/html": [
       "<div>\n",
       "<style scoped>\n",
       "    .dataframe tbody tr th:only-of-type {\n",
       "        vertical-align: middle;\n",
       "    }\n",
       "\n",
       "    .dataframe tbody tr th {\n",
       "        vertical-align: top;\n",
       "    }\n",
       "\n",
       "    .dataframe thead th {\n",
       "        text-align: right;\n",
       "    }\n",
       "</style>\n",
       "<table border=\"1\" class=\"dataframe\">\n",
       "  <thead>\n",
       "    <tr style=\"text-align: right;\">\n",
       "      <th></th>\n",
       "      <th>house</th>\n",
       "      <th>item</th>\n",
       "      <th>cluster_id</th>\n",
       "    </tr>\n",
       "  </thead>\n",
       "  <tbody>\n",
       "    <tr>\n",
       "      <th>0</th>\n",
       "      <td>318</td>\n",
       "      <td>55</td>\n",
       "      <td>0</td>\n",
       "    </tr>\n",
       "    <tr>\n",
       "      <th>1</th>\n",
       "      <td>318</td>\n",
       "      <td>1490</td>\n",
       "      <td>17</td>\n",
       "    </tr>\n",
       "    <tr>\n",
       "      <th>4</th>\n",
       "      <td>318</td>\n",
       "      <td>2256</td>\n",
       "      <td>10067</td>\n",
       "    </tr>\n",
       "    <tr>\n",
       "      <th>5</th>\n",
       "      <td>318</td>\n",
       "      <td>2257</td>\n",
       "      <td>10068</td>\n",
       "    </tr>\n",
       "    <tr>\n",
       "      <th>6</th>\n",
       "      <td>318</td>\n",
       "      <td>2258</td>\n",
       "      <td>10069</td>\n",
       "    </tr>\n",
       "    <tr>\n",
       "      <th>...</th>\n",
       "      <td>...</td>\n",
       "      <td>...</td>\n",
       "      <td>...</td>\n",
       "    </tr>\n",
       "    <tr>\n",
       "      <th>412761</th>\n",
       "      <td>135273</td>\n",
       "      <td>1169670</td>\n",
       "      <td>65113</td>\n",
       "    </tr>\n",
       "    <tr>\n",
       "      <th>412764</th>\n",
       "      <td>135273</td>\n",
       "      <td>1451760</td>\n",
       "      <td>69894</td>\n",
       "    </tr>\n",
       "    <tr>\n",
       "      <th>412765</th>\n",
       "      <td>135273</td>\n",
       "      <td>1467566</td>\n",
       "      <td>70090</td>\n",
       "    </tr>\n",
       "    <tr>\n",
       "      <th>412767</th>\n",
       "      <td>135273</td>\n",
       "      <td>1709921</td>\n",
       "      <td>72269</td>\n",
       "    </tr>\n",
       "    <tr>\n",
       "      <th>412780</th>\n",
       "      <td>135273</td>\n",
       "      <td>1810243</td>\n",
       "      <td>72743</td>\n",
       "    </tr>\n",
       "  </tbody>\n",
       "</table>\n",
       "<p>257305 rows × 3 columns</p>\n",
       "</div>"
      ],
      "text/plain": [
       "         house     item  cluster_id\n",
       "0          318       55           0\n",
       "1          318     1490          17\n",
       "4          318     2256       10067\n",
       "5          318     2257       10068\n",
       "6          318     2258       10069\n",
       "...        ...      ...         ...\n",
       "412761  135273  1169670       65113\n",
       "412764  135273  1451760       69894\n",
       "412765  135273  1467566       70090\n",
       "412767  135273  1709921       72269\n",
       "412780  135273  1810243       72743\n",
       "\n",
       "[257305 rows x 3 columns]"
      ]
     },
     "execution_count": 18,
     "metadata": {},
     "output_type": "execute_result"
    }
   ],
   "source": [
    "train"
   ]
  },
  {
   "cell_type": "code",
   "execution_count": 19,
   "metadata": {},
   "outputs": [],
   "source": [
    "train = train[[\"house\", \"cluster_id\", \"item\"]]"
   ]
  },
  {
   "cell_type": "code",
   "execution_count": 20,
   "metadata": {},
   "outputs": [],
   "source": [
    "train = train.sort_values(by=[\"house\", \"cluster_id\", \"item\"])"
   ]
  },
  {
   "cell_type": "code",
   "execution_count": 21,
   "metadata": {},
   "outputs": [
    {
     "data": {
      "text/html": [
       "<div>\n",
       "<style scoped>\n",
       "    .dataframe tbody tr th:only-of-type {\n",
       "        vertical-align: middle;\n",
       "    }\n",
       "\n",
       "    .dataframe tbody tr th {\n",
       "        vertical-align: top;\n",
       "    }\n",
       "\n",
       "    .dataframe thead th {\n",
       "        text-align: right;\n",
       "    }\n",
       "</style>\n",
       "<table border=\"1\" class=\"dataframe\">\n",
       "  <thead>\n",
       "    <tr style=\"text-align: right;\">\n",
       "      <th></th>\n",
       "      <th>house</th>\n",
       "      <th>cluster_id</th>\n",
       "      <th>item</th>\n",
       "    </tr>\n",
       "  </thead>\n",
       "  <tbody>\n",
       "    <tr>\n",
       "      <th>0</th>\n",
       "      <td>318</td>\n",
       "      <td>0</td>\n",
       "      <td>55</td>\n",
       "    </tr>\n",
       "    <tr>\n",
       "      <th>1</th>\n",
       "      <td>318</td>\n",
       "      <td>17</td>\n",
       "      <td>1490</td>\n",
       "    </tr>\n",
       "    <tr>\n",
       "      <th>4</th>\n",
       "      <td>318</td>\n",
       "      <td>10067</td>\n",
       "      <td>2256</td>\n",
       "    </tr>\n",
       "    <tr>\n",
       "      <th>5</th>\n",
       "      <td>318</td>\n",
       "      <td>10068</td>\n",
       "      <td>2257</td>\n",
       "    </tr>\n",
       "    <tr>\n",
       "      <th>6</th>\n",
       "      <td>318</td>\n",
       "      <td>10069</td>\n",
       "      <td>2258</td>\n",
       "    </tr>\n",
       "    <tr>\n",
       "      <th>...</th>\n",
       "      <td>...</td>\n",
       "      <td>...</td>\n",
       "      <td>...</td>\n",
       "    </tr>\n",
       "    <tr>\n",
       "      <th>412761</th>\n",
       "      <td>135273</td>\n",
       "      <td>65113</td>\n",
       "      <td>1169670</td>\n",
       "    </tr>\n",
       "    <tr>\n",
       "      <th>412764</th>\n",
       "      <td>135273</td>\n",
       "      <td>69894</td>\n",
       "      <td>1451760</td>\n",
       "    </tr>\n",
       "    <tr>\n",
       "      <th>412765</th>\n",
       "      <td>135273</td>\n",
       "      <td>70090</td>\n",
       "      <td>1467566</td>\n",
       "    </tr>\n",
       "    <tr>\n",
       "      <th>412767</th>\n",
       "      <td>135273</td>\n",
       "      <td>72269</td>\n",
       "      <td>1709921</td>\n",
       "    </tr>\n",
       "    <tr>\n",
       "      <th>412780</th>\n",
       "      <td>135273</td>\n",
       "      <td>72743</td>\n",
       "      <td>1810243</td>\n",
       "    </tr>\n",
       "  </tbody>\n",
       "</table>\n",
       "<p>257305 rows × 3 columns</p>\n",
       "</div>"
      ],
      "text/plain": [
       "         house  cluster_id     item\n",
       "0          318           0       55\n",
       "1          318          17     1490\n",
       "4          318       10067     2256\n",
       "5          318       10068     2257\n",
       "6          318       10069     2258\n",
       "...        ...         ...      ...\n",
       "412761  135273       65113  1169670\n",
       "412764  135273       69894  1451760\n",
       "412765  135273       70090  1467566\n",
       "412767  135273       72269  1709921\n",
       "412780  135273       72743  1810243\n",
       "\n",
       "[257305 rows x 3 columns]"
      ]
     },
     "execution_count": 21,
     "metadata": {},
     "output_type": "execute_result"
    }
   ],
   "source": [
    "train"
   ]
  },
  {
   "cell_type": "code",
   "execution_count": 22,
   "metadata": {},
   "outputs": [],
   "source": [
    "train.to_csv(\"clustered_train.csv\", index=False)"
   ]
  },
  {
   "cell_type": "code",
   "execution_count": 23,
   "metadata": {},
   "outputs": [],
   "source": [
    "predict_price_list = []\n",
    "\n",
    "import re\n",
    "p = re.compile('.+(?=사)')\n",
    "for i in item.predict_price.index:\n",
    "    m = p.findall(str(item.predict_price.iloc[i]))\n",
    "    if len(m) == 0:\n",
    "        m.append(\"예상가정보없음\")\n",
    "    if m[0][3:] == \"정보없음\":\n",
    "        predict_price_list.append(\"정보없음\")\n",
    "    else:\n",
    "        predict_price_list.append(int(\"\".join((m[0][3:]).split(\",\"))))"
   ]
  },
  {
   "cell_type": "code",
   "execution_count": 24,
   "metadata": {},
   "outputs": [],
   "source": [
    "item.predict_price = predict_price_list"
   ]
  },
  {
   "cell_type": "code",
   "execution_count": 25,
   "metadata": {},
   "outputs": [],
   "source": [
    "item.loc[(item.predict_price != \"정보없음\"), \"price\"] = item[(item.predict_price != \"정보없음\")].predict_price"
   ]
  },
  {
   "cell_type": "code",
   "execution_count": 27,
   "metadata": {},
   "outputs": [],
   "source": [
    "import re\n",
    "def f(x):\n",
    "    pattern = re.compile(r\"별점\\s+(\\d+\\.\\d+)점\")\n",
    "    try:\n",
    "        match = pattern.search(x)\n",
    "        if match:\n",
    "            score = float(match.group(1))\n",
    "        else:\n",
    "            score = None\n",
    "        return score\n",
    "    except:\n",
    "        return 0.0"
   ]
  },
  {
   "cell_type": "code",
   "execution_count": 28,
   "metadata": {},
   "outputs": [],
   "source": [
    "item.rating = item.rating.apply(lambda x: f(x))"
   ]
  },
  {
   "cell_type": "code",
   "execution_count": 29,
   "metadata": {},
   "outputs": [],
   "source": [
    "item.review = item.review.fillna(\"리뷰 쓰기첫 리뷰 두 배 적립\")\n",
    "review_list = []\n",
    "\n",
    "import re\n",
    "p = re.compile('[(][0-9]*[)]')\n",
    "for idx, review in enumerate(item.review):\n",
    "    m = p.findall(review)\n",
    "    if len(m) == 0:\n",
    "        m.append(\"(0)\")\n",
    "    review_list.append(m[0][1:-1])\n",
    "\n",
    "item.review = review_list"
   ]
  },
  {
   "cell_type": "code",
   "execution_count": 30,
   "metadata": {},
   "outputs": [],
   "source": [
    "item.review = item.review.astype(int)"
   ]
  },
  {
   "cell_type": "code",
   "execution_count": 31,
   "metadata": {},
   "outputs": [],
   "source": [
    "item.rating = item.rating.astype(float)"
   ]
  },
  {
   "cell_type": "code",
   "execution_count": 32,
   "metadata": {},
   "outputs": [
    {
     "data": {
      "text/html": [
       "<div>\n",
       "<style scoped>\n",
       "    .dataframe tbody tr th:only-of-type {\n",
       "        vertical-align: middle;\n",
       "    }\n",
       "\n",
       "    .dataframe tbody tr th {\n",
       "        vertical-align: top;\n",
       "    }\n",
       "\n",
       "    .dataframe thead th {\n",
       "        text-align: right;\n",
       "    }\n",
       "</style>\n",
       "<table border=\"1\" class=\"dataframe\">\n",
       "  <thead>\n",
       "    <tr style=\"text-align: right;\">\n",
       "      <th></th>\n",
       "      <th>item</th>\n",
       "      <th>category</th>\n",
       "      <th>rating</th>\n",
       "      <th>review</th>\n",
       "      <th>price</th>\n",
       "      <th>preprocessed_title</th>\n",
       "      <th>seller</th>\n",
       "      <th>discount_rate</th>\n",
       "      <th>image</th>\n",
       "      <th>available_product</th>\n",
       "      <th>predict_price</th>\n",
       "      <th>original_title</th>\n",
       "      <th>similar_item_list</th>\n",
       "      <th>cls_id</th>\n",
       "    </tr>\n",
       "  </thead>\n",
       "  <tbody>\n",
       "    <tr>\n",
       "      <th>0</th>\n",
       "      <td>1</td>\n",
       "      <td>가구|서랍·수납장|수납장</td>\n",
       "      <td>4.2</td>\n",
       "      <td>67</td>\n",
       "      <td>NaN</td>\n",
       "      <td>66808</td>\n",
       "      <td>DRAWER</td>\n",
       "      <td>NaN</td>\n",
       "      <td>https://image.ohou.se/i/bucketplace-v2-develop...</td>\n",
       "      <td>미입점</td>\n",
       "      <td>정보없음</td>\n",
       "      <td>66808</td>\n",
       "      <td>NaN</td>\n",
       "      <td>9191</td>\n",
       "    </tr>\n",
       "    <tr>\n",
       "      <th>1</th>\n",
       "      <td>4</td>\n",
       "      <td>데코·식물|시계|벽시계</td>\n",
       "      <td>0.0</td>\n",
       "      <td>0</td>\n",
       "      <td>NaN</td>\n",
       "      <td>118400</td>\n",
       "      <td>우드피아</td>\n",
       "      <td>NaN</td>\n",
       "      <td>https://image.ohou.se/i/bucketplace-v2-develop...</td>\n",
       "      <td>미입점</td>\n",
       "      <td>정보없음</td>\n",
       "      <td>118400</td>\n",
       "      <td>NaN</td>\n",
       "      <td>9192</td>\n",
       "    </tr>\n",
       "    <tr>\n",
       "      <th>2</th>\n",
       "      <td>8</td>\n",
       "      <td>가구|거실장·TV장|일반거실장</td>\n",
       "      <td>0.0</td>\n",
       "      <td>0</td>\n",
       "      <td>NaN</td>\n",
       "      <td>131836</td>\n",
       "      <td>DOICH(도이치)</td>\n",
       "      <td>NaN</td>\n",
       "      <td>https://image.ohou.se/i/bucketplace-v2-develop...</td>\n",
       "      <td>미입점</td>\n",
       "      <td>정보없음</td>\n",
       "      <td>131836</td>\n",
       "      <td>NaN</td>\n",
       "      <td>9193</td>\n",
       "    </tr>\n",
       "    <tr>\n",
       "      <th>3</th>\n",
       "      <td>9</td>\n",
       "      <td>가구|의자|스툴·벤치</td>\n",
       "      <td>5.0</td>\n",
       "      <td>2</td>\n",
       "      <td>NaN</td>\n",
       "      <td>204593</td>\n",
       "      <td>이케아</td>\n",
       "      <td>NaN</td>\n",
       "      <td>https://image.ohou.se/i/bucketplace-v2-develop...</td>\n",
       "      <td>미입점</td>\n",
       "      <td>정보없음</td>\n",
       "      <td>204593</td>\n",
       "      <td>NaN</td>\n",
       "      <td>9194</td>\n",
       "    </tr>\n",
       "    <tr>\n",
       "      <th>4</th>\n",
       "      <td>10</td>\n",
       "      <td>가구|화장대·콘솔|일반화장대</td>\n",
       "      <td>0.0</td>\n",
       "      <td>0</td>\n",
       "      <td>NaN</td>\n",
       "      <td>221527</td>\n",
       "      <td>아노말리</td>\n",
       "      <td>NaN</td>\n",
       "      <td>https://image.ohou.se/i/bucketplace-v2-develop...</td>\n",
       "      <td>미입점</td>\n",
       "      <td>정보없음</td>\n",
       "      <td>221527</td>\n",
       "      <td>NaN</td>\n",
       "      <td>9195</td>\n",
       "    </tr>\n",
       "  </tbody>\n",
       "</table>\n",
       "</div>"
      ],
      "text/plain": [
       "   item          category  rating  review price preprocessed_title  \\\n",
       "0     1     가구|서랍·수납장|수납장     4.2      67   NaN              66808   \n",
       "1     4      데코·식물|시계|벽시계     0.0       0   NaN             118400   \n",
       "2     8  가구|거실장·TV장|일반거실장     0.0       0   NaN             131836   \n",
       "3     9       가구|의자|스툴·벤치     5.0       2   NaN             204593   \n",
       "4    10   가구|화장대·콘솔|일반화장대     0.0       0   NaN             221527   \n",
       "\n",
       "        seller discount_rate  \\\n",
       "0      DRAWER            NaN   \n",
       "1        우드피아            NaN   \n",
       "2  DOICH(도이치)            NaN   \n",
       "3         이케아            NaN   \n",
       "4        아노말리            NaN   \n",
       "\n",
       "                                               image available_product  \\\n",
       "0  https://image.ohou.se/i/bucketplace-v2-develop...               미입점   \n",
       "1  https://image.ohou.se/i/bucketplace-v2-develop...               미입점   \n",
       "2  https://image.ohou.se/i/bucketplace-v2-develop...               미입점   \n",
       "3  https://image.ohou.se/i/bucketplace-v2-develop...               미입점   \n",
       "4  https://image.ohou.se/i/bucketplace-v2-develop...               미입점   \n",
       "\n",
       "  predict_price original_title similar_item_list  cls_id  \n",
       "0          정보없음          66808               NaN    9191  \n",
       "1          정보없음         118400               NaN    9192  \n",
       "2          정보없음         131836               NaN    9193  \n",
       "3          정보없음         204593               NaN    9194  \n",
       "4          정보없음         221527               NaN    9195  "
      ]
     },
     "execution_count": 32,
     "metadata": {},
     "output_type": "execute_result"
    }
   ],
   "source": [
    "item.head(5)"
   ]
  },
  {
   "cell_type": "code",
   "execution_count": 33,
   "metadata": {},
   "outputs": [],
   "source": [
    "item = item.sort_values([\"cls_id\", \"review\", \"rating\"], ascending=[True, False, False])"
   ]
  },
  {
   "cell_type": "code",
   "execution_count": 35,
   "metadata": {},
   "outputs": [
    {
     "data": {
      "text/plain": [
       "cls_id\n",
       "0        22\n",
       "1         3\n",
       "2         2\n",
       "3         2\n",
       "4         2\n",
       "         ..\n",
       "72781     1\n",
       "72782     1\n",
       "72783     1\n",
       "72784     1\n",
       "72785     1\n",
       "Name: item, Length: 72334, dtype: int64"
      ]
     },
     "execution_count": 35,
     "metadata": {},
     "output_type": "execute_result"
    }
   ],
   "source": [
    "item.groupby(\"cls_id\")[\"item\"].apply(lambda x:len(list(x)))"
   ]
  },
  {
   "attachments": {},
   "cell_type": "markdown",
   "metadata": {},
   "source": [
    "<!-- 1. 클러스터링 적당히 엄격히하고 (현 수준) -> 생성된 테이블로 백, 프론트, DB 작업하고 -> 검증만 다중선형회귀로\n",
    "1. AE 학습할 때 feature로 넣는다? -->"
   ]
  },
  {
   "cell_type": "code",
   "execution_count": null,
   "metadata": {},
   "outputs": [],
   "source": []
  },
  {
   "cell_type": "code",
   "execution_count": 46,
   "metadata": {},
   "outputs": [],
   "source": [
    "cls_major_item_id = item.rename(columns={\"item\":\"major_item\"}).groupby(\"cls_id\")[\"major_item\"].apply(lambda x:list(x)[0]).reset_index()\n",
    "cls_major_item_id_list = item.rename(columns={\"item\":\"item_list\"}).groupby(\"cls_id\")[\"item_list\"].apply(lambda x:\"|\".join(list(map(str, list(x))))).reset_index()"
   ]
  },
  {
   "cell_type": "code",
   "execution_count": 47,
   "metadata": {},
   "outputs": [],
   "source": [
    "cls_major_item_id = cls_major_item_id.merge(cls_major_item_id_list, on=\"cls_id\")"
   ]
  },
  {
   "cell_type": "code",
   "execution_count": 48,
   "metadata": {},
   "outputs": [
    {
     "data": {
      "text/html": [
       "<div>\n",
       "<style scoped>\n",
       "    .dataframe tbody tr th:only-of-type {\n",
       "        vertical-align: middle;\n",
       "    }\n",
       "\n",
       "    .dataframe tbody tr th {\n",
       "        vertical-align: top;\n",
       "    }\n",
       "\n",
       "    .dataframe thead th {\n",
       "        text-align: right;\n",
       "    }\n",
       "</style>\n",
       "<table border=\"1\" class=\"dataframe\">\n",
       "  <thead>\n",
       "    <tr style=\"text-align: right;\">\n",
       "      <th></th>\n",
       "      <th>cls_id</th>\n",
       "      <th>major_item</th>\n",
       "      <th>item_list</th>\n",
       "    </tr>\n",
       "  </thead>\n",
       "  <tbody>\n",
       "    <tr>\n",
       "      <th>0</th>\n",
       "      <td>0</td>\n",
       "      <td>456458</td>\n",
       "      <td>456458|456462|55|456449|138899|133699|769|3387...</td>\n",
       "    </tr>\n",
       "    <tr>\n",
       "      <th>1</th>\n",
       "      <td>1</td>\n",
       "      <td>1017200</td>\n",
       "      <td>1017200|743437|89</td>\n",
       "    </tr>\n",
       "    <tr>\n",
       "      <th>2</th>\n",
       "      <td>2</td>\n",
       "      <td>103</td>\n",
       "      <td>103|350421</td>\n",
       "    </tr>\n",
       "    <tr>\n",
       "      <th>3</th>\n",
       "      <td>3</td>\n",
       "      <td>107</td>\n",
       "      <td>107|1436</td>\n",
       "    </tr>\n",
       "    <tr>\n",
       "      <th>4</th>\n",
       "      <td>4</td>\n",
       "      <td>108</td>\n",
       "      <td>108|143</td>\n",
       "    </tr>\n",
       "    <tr>\n",
       "      <th>...</th>\n",
       "      <td>...</td>\n",
       "      <td>...</td>\n",
       "      <td>...</td>\n",
       "    </tr>\n",
       "    <tr>\n",
       "      <th>72329</th>\n",
       "      <td>72781</td>\n",
       "      <td>1820832</td>\n",
       "      <td>1820832</td>\n",
       "    </tr>\n",
       "    <tr>\n",
       "      <th>72330</th>\n",
       "      <td>72782</td>\n",
       "      <td>1821165</td>\n",
       "      <td>1821165</td>\n",
       "    </tr>\n",
       "    <tr>\n",
       "      <th>72331</th>\n",
       "      <td>72783</td>\n",
       "      <td>1821312</td>\n",
       "      <td>1821312</td>\n",
       "    </tr>\n",
       "    <tr>\n",
       "      <th>72332</th>\n",
       "      <td>72784</td>\n",
       "      <td>1822506</td>\n",
       "      <td>1822506</td>\n",
       "    </tr>\n",
       "    <tr>\n",
       "      <th>72333</th>\n",
       "      <td>72785</td>\n",
       "      <td>1822539</td>\n",
       "      <td>1822539</td>\n",
       "    </tr>\n",
       "  </tbody>\n",
       "</table>\n",
       "<p>72334 rows × 3 columns</p>\n",
       "</div>"
      ],
      "text/plain": [
       "       cls_id  major_item                                          item_list\n",
       "0           0      456458  456458|456462|55|456449|138899|133699|769|3387...\n",
       "1           1     1017200                                  1017200|743437|89\n",
       "2           2         103                                         103|350421\n",
       "3           3         107                                           107|1436\n",
       "4           4         108                                            108|143\n",
       "...       ...         ...                                                ...\n",
       "72329   72781     1820832                                            1820832\n",
       "72330   72782     1821165                                            1821165\n",
       "72331   72783     1821312                                            1821312\n",
       "72332   72784     1822506                                            1822506\n",
       "72333   72785     1822539                                            1822539\n",
       "\n",
       "[72334 rows x 3 columns]"
      ]
     },
     "execution_count": 48,
     "metadata": {},
     "output_type": "execute_result"
    }
   ],
   "source": [
    "cls_major_item_id"
   ]
  },
  {
   "cell_type": "code",
   "execution_count": 49,
   "metadata": {},
   "outputs": [],
   "source": [
    "cls_major_item_id.to_csv(\"cluster_major_item.csv\", index=True)"
   ]
  },
  {
   "cell_type": "code",
   "execution_count": null,
   "metadata": {},
   "outputs": [],
   "source": []
  }
 ],
 "metadata": {
  "kernelspec": {
   "display_name": "base",
   "language": "python",
   "name": "python3"
  },
  "language_info": {
   "codemirror_mode": {
    "name": "ipython",
    "version": 3
   },
   "file_extension": ".py",
   "mimetype": "text/x-python",
   "name": "python",
   "nbconvert_exporter": "python",
   "pygments_lexer": "ipython3",
   "version": "3.8.5"
  },
  "orig_nbformat": 4,
  "vscode": {
   "interpreter": {
    "hash": "d4d1e4263499bec80672ea0156c357c1ee493ec2b1c70f0acce89fc37c4a6abe"
   }
  }
 },
 "nbformat": 4,
 "nbformat_minor": 2
}
