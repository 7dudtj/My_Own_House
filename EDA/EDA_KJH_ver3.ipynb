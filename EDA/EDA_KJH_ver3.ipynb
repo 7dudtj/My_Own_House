{
 "cells": [
  {
   "cell_type": "code",
   "execution_count": 46,
   "metadata": {},
   "outputs": [],
   "source": [
    "import pandas as pd\n",
    "from tqdm import tqdm\n",
    "from collections import Counter"
   ]
  },
  {
   "cell_type": "code",
   "execution_count": 47,
   "metadata": {},
   "outputs": [],
   "source": [
    "# TODO 추천에 활용하지 않을 category 목록들을 필터링합니다.\n",
    "# TODO 필터링 이후, similarity에 대한 BFS 알고리즘을 적용합니다 -> 이전에 구한 similarity가 전체 item을 기준으로 구해졌기 때문에, 예외 처리를 해줘야 합니다.\n",
    "# TODO BFS 알고리즘을 통해 찾아낸 clustering group을 만들어주고, \"ETC\"나 \"etc\"로 group된 item들은 -1로 변환합니다.\n",
    "# TODO house_interaction에 클러스터 결과를 merge해줍니다. 이때, 클러스터 그룹이 -1이거나 house_interaction에만 포함된 item들은 cluster_id.max() + 1을 더해줍니다.\n",
    "# TODO model을 학습해서 학습한 결과를 backend에 반영합니다.\n",
    "# TODO cluster-major-item list를 생성합니다."
   ]
  },
  {
   "cell_type": "code",
   "execution_count": 48,
   "metadata": {},
   "outputs": [],
   "source": [
    "item = pd.read_csv(\"similarity_item_99243.csv\")"
   ]
  },
  {
   "cell_type": "code",
   "execution_count": 49,
   "metadata": {},
   "outputs": [
    {
     "data": {
      "text/html": [
       "<div>\n",
       "<style scoped>\n",
       "    .dataframe tbody tr th:only-of-type {\n",
       "        vertical-align: middle;\n",
       "    }\n",
       "\n",
       "    .dataframe tbody tr th {\n",
       "        vertical-align: top;\n",
       "    }\n",
       "\n",
       "    .dataframe thead th {\n",
       "        text-align: right;\n",
       "    }\n",
       "</style>\n",
       "<table border=\"1\" class=\"dataframe\">\n",
       "  <thead>\n",
       "    <tr style=\"text-align: right;\">\n",
       "      <th></th>\n",
       "      <th>item</th>\n",
       "      <th>category</th>\n",
       "      <th>rating</th>\n",
       "      <th>review</th>\n",
       "      <th>price</th>\n",
       "      <th>preprocessed_title</th>\n",
       "      <th>seller</th>\n",
       "      <th>discount_rate</th>\n",
       "      <th>image</th>\n",
       "      <th>available_product</th>\n",
       "      <th>predict_price</th>\n",
       "      <th>original_title</th>\n",
       "      <th>similarity_list</th>\n",
       "    </tr>\n",
       "  </thead>\n",
       "  <tbody>\n",
       "    <tr>\n",
       "      <th>0</th>\n",
       "      <td>226754</td>\n",
       "      <td>유아·아동|완구·교구|신생아·영아완구</td>\n",
       "      <td>별점 0.0점</td>\n",
       "      <td>리뷰 쓰기첫 리뷰 두 배 적립</td>\n",
       "      <td>NaN</td>\n",
       "      <td>0 개월 한글 영어</td>\n",
       "      <td>FINDEN BEBE(핀데베베)</td>\n",
       "      <td>NaN</td>\n",
       "      <td>https://image.ohou.se/i/bucketplace-v2-develop...</td>\n",
       "      <td>미입점</td>\n",
       "      <td>예상가799,000사이즈정보없음출처smartstore.naver.com</td>\n",
       "      <td>0~36개월/한글영어</td>\n",
       "      <td>[]</td>\n",
       "    </tr>\n",
       "  </tbody>\n",
       "</table>\n",
       "</div>"
      ],
      "text/plain": [
       "     item              category   rating            review price  \\\n",
       "0  226754  유아·아동|완구·교구|신생아·영아완구  별점 0.0점  리뷰 쓰기첫 리뷰 두 배 적립   NaN   \n",
       "\n",
       "  preprocessed_title              seller discount_rate  \\\n",
       "0         0 개월 한글 영어  FINDEN BEBE(핀데베베)            NaN   \n",
       "\n",
       "                                               image available_product  \\\n",
       "0  https://image.ohou.se/i/bucketplace-v2-develop...               미입점   \n",
       "\n",
       "                             predict_price original_title similarity_list  \n",
       "0  예상가799,000사이즈정보없음출처smartstore.naver.com    0~36개월/한글영어              []  "
      ]
     },
     "execution_count": 49,
     "metadata": {},
     "output_type": "execute_result"
    }
   ],
   "source": [
    "item.head(1)"
   ]
  },
  {
   "cell_type": "code",
   "execution_count": 50,
   "metadata": {},
   "outputs": [],
   "source": [
    "del_list = [\n",
    "\"공구\",\n",
    "\"욕실용품\",\n",
    "\"유아·아동\",\n",
    "\"청소용품\",\n",
    "\"캠핑·레저\",\n",
    "\"반려동물\",\n",
    "\"생필품\",\n",
    "\"렌탈\",\n",
    "\"생활용품\",\n",
    "\"식품\",\n",
    "\"인테리어시공\",\n",
    "\"칼\",\n",
    "\"선풍기\",\n",
    "\"컵·잔·텀블러\",\n",
    "\"조리도구·도마\",\n",
    "\"홈갤러리\",\n",
    "\"전기요·온수매트\",\n",
    "# \"에어컨\",\n",
    "\"커피·티용품\",\n",
    "\"조명부속품\",\n",
    "\"센서등\",\n",
    "\"복합기·프린터·스캐너\",\n",
    "\"소파·생활커버\",\n",
    "\"이미용가전\",\n",
    "\"주방잡화\",\n",
    "\"그릇·홈세트\",\n",
    "\"후크·수납걸이\",\n",
    "\"데스크·디자인문구\",\n",
    "\"냄비·프라이팬·솥\",\n",
    "\"베이킹용품\",\n",
    "# \"세탁기·건조기\",\n",
    "\"거울\",\n",
    "\"매트리스·토퍼\",\n",
    "\"파티·이벤트용품\",\n",
    "\"해충퇴치기\",\n",
    "\"다이어리·플래너\",\n",
    "\"수세미걸이·세제통\",\n",
    "\"다리미·보풀제거기\",\n",
    "\"멀티탭·공유기정리함\",\n",
    "\"멀티탭·공유기정리함\",\n",
    "\"다리미·보풀제거기\",\n",
    "\"디자인문구\",\n",
    "\"보드게임\",\n",
    "\"리빙박스·바구니\",\n",
    "# \"가습기\",\n",
    "\"전기히터·온풍기\",\n",
    "\"전기·멀티포트\"\n",
    "]"
   ]
  },
  {
   "cell_type": "code",
   "execution_count": 51,
   "metadata": {},
   "outputs": [],
   "source": [
    "item.category.fillna(\"|\", inplace=True)"
   ]
  },
  {
   "cell_type": "code",
   "execution_count": 52,
   "metadata": {},
   "outputs": [],
   "source": [
    "import pickle\n",
    "with open(\"similarity_99243.pickle\", \"rb\") as pkl:\n",
    "    data = pickle.load(pkl)\n",
    "\n",
    "item[\"similarity_list\"] = data"
   ]
  },
  {
   "cell_type": "code",
   "execution_count": 53,
   "metadata": {},
   "outputs": [],
   "source": [
    "item_ = item[(~item.category.str.contains(\"|\".join(del_list))) & ~(item.category==\"|\")]"
   ]
  },
  {
   "cell_type": "code",
   "execution_count": 54,
   "metadata": {},
   "outputs": [
    {
     "data": {
      "text/plain": [
       "88634"
      ]
     },
     "execution_count": 54,
     "metadata": {},
     "output_type": "execute_result"
    }
   ],
   "source": [
    "len(item_)"
   ]
  },
  {
   "cell_type": "code",
   "execution_count": 55,
   "metadata": {},
   "outputs": [
    {
     "data": {
      "text/plain": [
       "[['002 애쉬 인 소파 페 브릭', '002 애쉬 인 소파 페 브릭', 69359, 1.0]]"
      ]
     },
     "execution_count": 55,
     "metadata": {},
     "output_type": "execute_result"
    }
   ],
   "source": [
    "(item_.iloc[6].similarity_list)"
   ]
  },
  {
   "cell_type": "code",
   "execution_count": 56,
   "metadata": {},
   "outputs": [
    {
     "name": "stderr",
     "output_type": "stream",
     "text": [
      "/tmp/ipykernel_44871/1535190289.py:1: SettingWithCopyWarning: \n",
      "A value is trying to be set on a copy of a slice from a DataFrame\n",
      "\n",
      "See the caveats in the documentation: https://pandas.pydata.org/pandas-docs/stable/user_guide/indexing.html#returning-a-view-versus-a-copy\n",
      "  item_.sort_values(\"item\", inplace=True)\n"
     ]
    }
   ],
   "source": [
    "item_.sort_values(\"item\", inplace=True)"
   ]
  },
  {
   "cell_type": "code",
   "execution_count": 57,
   "metadata": {},
   "outputs": [
    {
     "data": {
      "text/plain": [
       "[[['쿠키앤크림 사다리 책장 단', '쿠키앤크림 사다리 책장 종 택', 25490, 0.8666666666666667]]]"
      ]
     },
     "execution_count": 57,
     "metadata": {},
     "output_type": "execute_result"
    }
   ],
   "source": [
    "list(item_[item_.item == 356808].similarity_list)"
   ]
  },
  {
   "cell_type": "code",
   "execution_count": 58,
   "metadata": {},
   "outputs": [
    {
     "name": "stderr",
     "output_type": "stream",
     "text": [
      "/tmp/ipykernel_44871/3209520921.py:15: SettingWithCopyWarning: \n",
      "A value is trying to be set on a copy of a slice from a DataFrame.\n",
      "Try using .loc[row_indexer,col_indexer] = value instead\n",
      "\n",
      "See the caveats in the documentation: https://pandas.pydata.org/pandas-docs/stable/user_guide/indexing.html#returning-a-view-versus-a-copy\n",
      "  item_[\"similar_item_list\"] = item_.similarity_list.apply(lambda x:get_item(x, threshold))\n"
     ]
    }
   ],
   "source": [
    "CLUSTER_ID = 0\n",
    "NON_CLUSTER_ID = -1\n",
    "\n",
    "lim = 5\n",
    "threshold = 0.8\n",
    "\n",
    "# TODO threshold 이상의 similarity 가지는 아이템을 저장하는 list 칼럼 생성\n",
    "def get_item(x, threshold):\n",
    "    tmp = []\n",
    "    for a in x:\n",
    "        if a[3] >= threshold:\n",
    "            tmp.append(a[2])\n",
    "    return tmp\n",
    "\n",
    "item_[\"similar_item_list\"] = item_.similarity_list.apply(lambda x:get_item(x, threshold))"
   ]
  },
  {
   "cell_type": "code",
   "execution_count": 59,
   "metadata": {},
   "outputs": [
    {
     "data": {
      "text/html": [
       "<div>\n",
       "<style scoped>\n",
       "    .dataframe tbody tr th:only-of-type {\n",
       "        vertical-align: middle;\n",
       "    }\n",
       "\n",
       "    .dataframe tbody tr th {\n",
       "        vertical-align: top;\n",
       "    }\n",
       "\n",
       "    .dataframe thead th {\n",
       "        text-align: right;\n",
       "    }\n",
       "</style>\n",
       "<table border=\"1\" class=\"dataframe\">\n",
       "  <thead>\n",
       "    <tr style=\"text-align: right;\">\n",
       "      <th></th>\n",
       "      <th>item</th>\n",
       "      <th>category</th>\n",
       "      <th>rating</th>\n",
       "      <th>review</th>\n",
       "      <th>price</th>\n",
       "      <th>preprocessed_title</th>\n",
       "      <th>seller</th>\n",
       "      <th>discount_rate</th>\n",
       "      <th>image</th>\n",
       "      <th>available_product</th>\n",
       "      <th>predict_price</th>\n",
       "      <th>original_title</th>\n",
       "      <th>similarity_list</th>\n",
       "      <th>similar_item_list</th>\n",
       "    </tr>\n",
       "  </thead>\n",
       "  <tbody>\n",
       "    <tr>\n",
       "      <th>126402</th>\n",
       "      <td>356808</td>\n",
       "      <td>가구|진열장·책장|책장</td>\n",
       "      <td>별점 4.6점</td>\n",
       "      <td>(685)개 리뷰</td>\n",
       "      <td>91,100원</td>\n",
       "      <td>쿠키앤크림 사다리 책장 단</td>\n",
       "      <td>채우리</td>\n",
       "      <td>56%</td>\n",
       "      <td>https://image.ohou.se/i/bucketplace-v2-develop...</td>\n",
       "      <td>NaN</td>\n",
       "      <td>NaN</td>\n",
       "      <td>쿠키앤크림 사다리책장 4단 2colors</td>\n",
       "      <td>[[쿠키앤크림 사다리 책장 단, 쿠키앤크림 사다리 책장 종 택, 25490, 0.8...</td>\n",
       "      <td>[25490]</td>\n",
       "    </tr>\n",
       "  </tbody>\n",
       "</table>\n",
       "</div>"
      ],
      "text/plain": [
       "          item      category   rating     review    price preprocessed_title  \\\n",
       "126402  356808  가구|진열장·책장|책장  별점 4.6점  (685)개 리뷰  91,100원     쿠키앤크림 사다리 책장 단   \n",
       "\n",
       "       seller discount_rate  \\\n",
       "126402   채우리            56%   \n",
       "\n",
       "                                                    image available_product  \\\n",
       "126402  https://image.ohou.se/i/bucketplace-v2-develop...               NaN   \n",
       "\n",
       "       predict_price          original_title  \\\n",
       "126402           NaN  쿠키앤크림 사다리책장 4단 2colors   \n",
       "\n",
       "                                          similarity_list similar_item_list  \n",
       "126402  [[쿠키앤크림 사다리 책장 단, 쿠키앤크림 사다리 책장 종 택, 25490, 0.8...           [25490]  "
      ]
     },
     "execution_count": 59,
     "metadata": {},
     "output_type": "execute_result"
    }
   ],
   "source": [
    "item_[item_.item == 356808]"
   ]
  },
  {
   "cell_type": "code",
   "execution_count": 60,
   "metadata": {},
   "outputs": [],
   "source": [
    "graph = {item_id:sim_items for item_id, sim_items in zip(item_.item, item_.similar_item_list)}\n",
    "visited = {item_id:NON_CLUSTER_ID for item_id in item_.item}"
   ]
  },
  {
   "cell_type": "code",
   "execution_count": 61,
   "metadata": {},
   "outputs": [],
   "source": [
    "# 양방향 그래프로 만들기\n",
    "for item_id, sim_items in graph.items():\n",
    "    for item_id_ in sim_items:\n",
    "        try:\n",
    "            graph[item_id_].append(item_id)\n",
    "        except:\n",
    "            pass"
   ]
  },
  {
   "cell_type": "code",
   "execution_count": 62,
   "metadata": {},
   "outputs": [
    {
     "data": {
      "text/plain": [
       "88634"
      ]
     },
     "execution_count": 62,
     "metadata": {},
     "output_type": "execute_result"
    }
   ],
   "source": [
    "len(graph)"
   ]
  },
  {
   "cell_type": "code",
   "execution_count": 63,
   "metadata": {},
   "outputs": [
    {
     "data": {
      "text/plain": [
       "88634"
      ]
     },
     "execution_count": 63,
     "metadata": {},
     "output_type": "execute_result"
    }
   ],
   "source": [
    "len(visited)"
   ]
  },
  {
   "cell_type": "code",
   "execution_count": 64,
   "metadata": {},
   "outputs": [
    {
     "data": {
      "text/plain": [
       "14999"
      ]
     },
     "execution_count": 64,
     "metadata": {},
     "output_type": "execute_result"
    }
   ],
   "source": [
    "cnt = 0\n",
    "for g in graph.values():\n",
    "    if len(g) > 1:\n",
    "        cnt += 1\n",
    "cnt"
   ]
  },
  {
   "cell_type": "code",
   "execution_count": 65,
   "metadata": {},
   "outputs": [],
   "source": [
    "def BFS(item_id:int, cls_id):\n",
    "    from collections import deque\n",
    "    q = deque([(item_id, 0)])\n",
    "    visited[item_id] = cls_id\n",
    "    while(q):\n",
    "        node, hop = q.popleft()\n",
    "        if hop > lim:\n",
    "            return\n",
    "        try:\n",
    "            for id in graph[node]:\n",
    "                if visited[id] == -1: # 아직 클러스터링되지 않은 아이템인 경우\n",
    "                    visited[id] = cls_id\n",
    "                    q.append((id, hop + 1))\n",
    "        except:\n",
    "            pass"
   ]
  },
  {
   "cell_type": "code",
   "execution_count": 66,
   "metadata": {},
   "outputs": [
    {
     "name": "stderr",
     "output_type": "stream",
     "text": [
      "100%|██████████| 88634/88634 [00:00<00:00, 538559.52it/s]\n"
     ]
    }
   ],
   "source": [
    "for item_id in tqdm(graph.keys()):\n",
    "    if visited[item_id] == NON_CLUSTER_ID and len(graph[item_id]) > 0:\n",
    "        BFS(item_id, CLUSTER_ID)\n",
    "        CLUSTER_ID += 1"
   ]
  },
  {
   "cell_type": "code",
   "execution_count": 67,
   "metadata": {},
   "outputs": [
    {
     "name": "stderr",
     "output_type": "stream",
     "text": [
      "/tmp/ipykernel_44871/1113527780.py:1: SettingWithCopyWarning: \n",
      "A value is trying to be set on a copy of a slice from a DataFrame.\n",
      "Try using .loc[row_indexer,col_indexer] = value instead\n",
      "\n",
      "See the caveats in the documentation: https://pandas.pydata.org/pandas-docs/stable/user_guide/indexing.html#returning-a-view-versus-a-copy\n",
      "  item_[\"cls_id\"] = item_.item.map(visited)\n"
     ]
    }
   ],
   "source": [
    "item_[\"cls_id\"] = item_.item.map(visited)"
   ]
  },
  {
   "cell_type": "code",
   "execution_count": 68,
   "metadata": {},
   "outputs": [
    {
     "data": {
      "text/html": [
       "<div>\n",
       "<style scoped>\n",
       "    .dataframe tbody tr th:only-of-type {\n",
       "        vertical-align: middle;\n",
       "    }\n",
       "\n",
       "    .dataframe tbody tr th {\n",
       "        vertical-align: top;\n",
       "    }\n",
       "\n",
       "    .dataframe thead th {\n",
       "        text-align: right;\n",
       "    }\n",
       "</style>\n",
       "<table border=\"1\" class=\"dataframe\">\n",
       "  <thead>\n",
       "    <tr style=\"text-align: right;\">\n",
       "      <th></th>\n",
       "      <th>item</th>\n",
       "      <th>category</th>\n",
       "      <th>rating</th>\n",
       "      <th>review</th>\n",
       "      <th>price</th>\n",
       "      <th>preprocessed_title</th>\n",
       "      <th>seller</th>\n",
       "      <th>discount_rate</th>\n",
       "      <th>image</th>\n",
       "      <th>available_product</th>\n",
       "      <th>predict_price</th>\n",
       "      <th>original_title</th>\n",
       "      <th>similarity_list</th>\n",
       "      <th>similar_item_list</th>\n",
       "      <th>cls_id</th>\n",
       "    </tr>\n",
       "  </thead>\n",
       "  <tbody>\n",
       "    <tr>\n",
       "      <th>2215</th>\n",
       "      <td>1</td>\n",
       "      <td>가구|서랍·수납장|수납장</td>\n",
       "      <td>별점 4.2점</td>\n",
       "      <td>(67)개 리뷰</td>\n",
       "      <td>NaN</td>\n",
       "      <td>66808</td>\n",
       "      <td>DRAWER</td>\n",
       "      <td>NaN</td>\n",
       "      <td>https://image.ohou.se/i/bucketplace-v2-develop...</td>\n",
       "      <td>미입점</td>\n",
       "      <td>예상가정보없음사이즈59.0 × 37.0 × 90.0 (cm)출처www.casa.co.kr</td>\n",
       "      <td>66808</td>\n",
       "      <td>[]</td>\n",
       "      <td>[]</td>\n",
       "      <td>-1</td>\n",
       "    </tr>\n",
       "  </tbody>\n",
       "</table>\n",
       "</div>"
      ],
      "text/plain": [
       "      item       category   rating    review price preprocessed_title  \\\n",
       "2215     1  가구|서랍·수납장|수납장  별점 4.2점  (67)개 리뷰   NaN              66808   \n",
       "\n",
       "       seller discount_rate  \\\n",
       "2215  DRAWER            NaN   \n",
       "\n",
       "                                                  image available_product  \\\n",
       "2215  https://image.ohou.se/i/bucketplace-v2-develop...               미입점   \n",
       "\n",
       "                                          predict_price original_title  \\\n",
       "2215  예상가정보없음사이즈59.0 × 37.0 × 90.0 (cm)출처www.casa.co.kr          66808   \n",
       "\n",
       "     similarity_list similar_item_list  cls_id  \n",
       "2215              []                []      -1  "
      ]
     },
     "execution_count": 68,
     "metadata": {},
     "output_type": "execute_result"
    }
   ],
   "source": [
    "item_.head(1)"
   ]
  },
  {
   "cell_type": "code",
   "execution_count": 69,
   "metadata": {},
   "outputs": [],
   "source": [
    "item_.loc[item_.preprocessed_title.str.contains(\"etc|ETC\"), \"cls_id\"] = -1"
   ]
  },
  {
   "cell_type": "code",
   "execution_count": 70,
   "metadata": {},
   "outputs": [
    {
     "data": {
      "text/plain": [
       "493"
      ]
     },
     "execution_count": 70,
     "metadata": {},
     "output_type": "execute_result"
    }
   ],
   "source": [
    "cnt  = 0\n",
    "for k, v in Counter(visited.values()).items():\n",
    "    if v == 1:\n",
    "        cnt += 1\n",
    "cnt"
   ]
  },
  {
   "cell_type": "code",
   "execution_count": 71,
   "metadata": {},
   "outputs": [
    {
     "data": {
      "text/plain": [
       "493"
      ]
     },
     "execution_count": 71,
     "metadata": {},
     "output_type": "execute_result"
    }
   ],
   "source": [
    "not_clustered_item = []\n",
    "c = Counter(visited.values())\n",
    "for k, v in visited.items():\n",
    "    if c[v] == 1:\n",
    "        not_clustered_item.append(k)\n",
    "len(not_clustered_item)"
   ]
  },
  {
   "cell_type": "code",
   "execution_count": 72,
   "metadata": {},
   "outputs": [],
   "source": [
    "for item_id in not_clustered_item:\n",
    "    # 자신과 이웃인 item의 cluster_group을 찾아서 바꿔주기\n",
    "    group_candidates = []\n",
    "    for neighbor_item_id in graph[item_id]:\n",
    "        try:\n",
    "            group_candidates.append(visited[neighbor_item_id])\n",
    "        except:\n",
    "            pass\n",
    "    CNT = Counter(group_candidates)\n",
    "    if len(CNT) >= 2:\n",
    "        tmp = CNT.most_common(2)\n",
    "        if tmp[0][0] == -1: # 가장 빈도 높은 클러스터가 클러스터링이 안되어있을 때 : -1\n",
    "            final_cls_id = tmp[1][0] # 나머지 모든 item을 2등 최빈 클러스터로 묶어줌\n",
    "            for neighbor_item_id in graph[item_id] + [item_id]:\n",
    "                visited[neighbor_item_id] = final_cls_id\n",
    "        else:\n",
    "            final_cls_id = tmp[0][0] # 나머지 모든 item을 1등 최빈 클러스터로 묶어줌\n",
    "            for neighbor_item_id in graph[item_id] + [item_id]:\n",
    "                visited[neighbor_item_id] = final_cls_id\n",
    "    elif len(CNT) == 1:\n",
    "        tmp = CNT.most_common(1)\n",
    "        if tmp[0][0] == -1: # 클러스터가 클러스터링이 안되어있을 때 : -1\n",
    "            final_cls_id = tmp[1][0] # 나머지 모든 item을 not_clustered_item의 클러스터로 묶어줌\n",
    "            for neighbor_item_id in graph[item_id] + [item_id]:\n",
    "                visited[neighbor_item_id] = final_cls_id\n",
    "        else:\n",
    "            final_cls_id = tmp[0][0] # 나머지 모든 item을 1등 최빈 클러스터로 묶어줌\n",
    "            for neighbor_item_id in graph[item_id] + [item_id]:\n",
    "                visited[neighbor_item_id] = final_cls_id\n",
    "    else: # 이웃들이 모두 잘려나간 카테고리에 포함되는 경우 -> -1로 처리\n",
    "        visited[item_id] = -1"
   ]
  },
  {
   "cell_type": "code",
   "execution_count": 73,
   "metadata": {},
   "outputs": [
    {
     "data": {
      "text/plain": [
       "2"
      ]
     },
     "execution_count": 73,
     "metadata": {},
     "output_type": "execute_result"
    }
   ],
   "source": [
    "not_clustered_item = []\n",
    "c = Counter(visited.values())\n",
    "for k, v in visited.items():\n",
    "    if c[v] == 1:\n",
    "        not_clustered_item.append(k)\n",
    "len(not_clustered_item)"
   ]
  },
  {
   "cell_type": "code",
   "execution_count": 74,
   "metadata": {},
   "outputs": [],
   "source": [
    "for item_id in not_clustered_item:\n",
    "    visited[item_id] = -1"
   ]
  },
  {
   "cell_type": "code",
   "execution_count": 75,
   "metadata": {},
   "outputs": [
    {
     "data": {
      "text/plain": [
       "0"
      ]
     },
     "execution_count": 75,
     "metadata": {},
     "output_type": "execute_result"
    }
   ],
   "source": [
    "not_clustered_item = []\n",
    "c = Counter(visited.values())\n",
    "for k, v in visited.items():\n",
    "    if c[v] == 1:\n",
    "        not_clustered_item.append(k)\n",
    "len(not_clustered_item)"
   ]
  },
  {
   "cell_type": "code",
   "execution_count": 76,
   "metadata": {},
   "outputs": [],
   "source": [
    "# 모든 클러스터를 처리함"
   ]
  },
  {
   "cell_type": "code",
   "execution_count": 77,
   "metadata": {},
   "outputs": [
    {
     "data": {
      "text/plain": [
       "88760"
      ]
     },
     "execution_count": 77,
     "metadata": {},
     "output_type": "execute_result"
    }
   ],
   "source": [
    "len(visited)"
   ]
  },
  {
   "cell_type": "code",
   "execution_count": 78,
   "metadata": {},
   "outputs": [
    {
     "data": {
      "text/plain": [
       "88634"
      ]
     },
     "execution_count": 78,
     "metadata": {},
     "output_type": "execute_result"
    }
   ],
   "source": [
    "len(item_)"
   ]
  },
  {
   "cell_type": "code",
   "execution_count": 79,
   "metadata": {},
   "outputs": [
    {
     "name": "stderr",
     "output_type": "stream",
     "text": [
      "/tmp/ipykernel_44871/1011874532.py:2: SettingWithCopyWarning: \n",
      "A value is trying to be set on a copy of a slice from a DataFrame.\n",
      "Try using .loc[row_indexer,col_indexer] = value instead\n",
      "\n",
      "See the caveats in the documentation: https://pandas.pydata.org/pandas-docs/stable/user_guide/indexing.html#returning-a-view-versus-a-copy\n",
      "  item_[\"cls_id\"] = item_.item.map(visited)\n"
     ]
    }
   ],
   "source": [
    "# 개수 차이가 나는 이유는 visited의 일부가 잘려나간 카테고리에 포함되기 때문\n",
    "item_[\"cls_id\"] = item_.item.map(visited)"
   ]
  },
  {
   "cell_type": "code",
   "execution_count": 80,
   "metadata": {},
   "outputs": [
    {
     "data": {
      "text/plain": [
       "25039"
      ]
     },
     "execution_count": 80,
     "metadata": {},
     "output_type": "execute_result"
    }
   ],
   "source": [
    "len(item_[item_.cls_id != -1])\n",
    "# 전체 88634 item 중에 25039개에 해당하는 아이템을 클러스터링함. (28.2%)"
   ]
  },
  {
   "cell_type": "code",
   "execution_count": 81,
   "metadata": {},
   "outputs": [
    {
     "data": {
      "text/html": [
       "<div>\n",
       "<style scoped>\n",
       "    .dataframe tbody tr th:only-of-type {\n",
       "        vertical-align: middle;\n",
       "    }\n",
       "\n",
       "    .dataframe tbody tr th {\n",
       "        vertical-align: top;\n",
       "    }\n",
       "\n",
       "    .dataframe thead th {\n",
       "        text-align: right;\n",
       "    }\n",
       "</style>\n",
       "<table border=\"1\" class=\"dataframe\">\n",
       "  <thead>\n",
       "    <tr style=\"text-align: right;\">\n",
       "      <th></th>\n",
       "      <th>item</th>\n",
       "      <th>category</th>\n",
       "      <th>rating</th>\n",
       "      <th>review</th>\n",
       "      <th>price</th>\n",
       "      <th>preprocessed_title</th>\n",
       "      <th>seller</th>\n",
       "      <th>discount_rate</th>\n",
       "      <th>image</th>\n",
       "      <th>available_product</th>\n",
       "      <th>predict_price</th>\n",
       "      <th>original_title</th>\n",
       "      <th>similarity_list</th>\n",
       "      <th>similar_item_list</th>\n",
       "      <th>cls_id</th>\n",
       "    </tr>\n",
       "  </thead>\n",
       "  <tbody>\n",
       "    <tr>\n",
       "      <th>20731</th>\n",
       "      <td>10713</td>\n",
       "      <td>가구|거실장·TV장|일반거실장</td>\n",
       "      <td>별점 0.0점</td>\n",
       "      <td>리뷰 쓰기첫 리뷰 두 배 적립</td>\n",
       "      <td>NaN</td>\n",
       "      <td>media console white</td>\n",
       "      <td>엘름</td>\n",
       "      <td>NaN</td>\n",
       "      <td>https://image.ohou.se/i/bucketplace-v2-develop...</td>\n",
       "      <td>미입점</td>\n",
       "      <td>예상가215,000사이즈정보없음출처www.ellm.co.kr</td>\n",
       "      <td>Media Console - White</td>\n",
       "      <td>[]</td>\n",
       "      <td>[]</td>\n",
       "      <td>-1</td>\n",
       "    </tr>\n",
       "    <tr>\n",
       "      <th>64737</th>\n",
       "      <td>151236</td>\n",
       "      <td>데코·식물|플라워·식물|화병·화분|화분</td>\n",
       "      <td>별점 4.3점</td>\n",
       "      <td>(4)개 리뷰</td>\n",
       "      <td>NaN</td>\n",
       "      <td>모던 시멘트 테라 화분 도트벨</td>\n",
       "      <td>먼데이팟</td>\n",
       "      <td>NaN</td>\n",
       "      <td>https://image.ohou.se/i/bucketplace-v2-develop...</td>\n",
       "      <td>미입점</td>\n",
       "      <td>예상가7,700사이즈정보없음출처정보없음</td>\n",
       "      <td>모던 시멘트 테라조 화분 도트벨_4sizes</td>\n",
       "      <td>[]</td>\n",
       "      <td>[]</td>\n",
       "      <td>-1</td>\n",
       "    </tr>\n",
       "    <tr>\n",
       "      <th>139573</th>\n",
       "      <td>639818</td>\n",
       "      <td>데코·식물|시계|벽시계</td>\n",
       "      <td>별점 0.0점</td>\n",
       "      <td>리뷰 쓰기첫 리뷰 두 배 적립</td>\n",
       "      <td>NaN</td>\n",
       "      <td>플라워 아크릴 벽 시계</td>\n",
       "      <td>썬데이감성</td>\n",
       "      <td>NaN</td>\n",
       "      <td>https://image.ohou.se/i/bucketplace-v2-develop...</td>\n",
       "      <td>NaN</td>\n",
       "      <td>NaN</td>\n",
       "      <td>플라워 아크릴 벽시계</td>\n",
       "      <td>[]</td>\n",
       "      <td>[]</td>\n",
       "      <td>-1</td>\n",
       "    </tr>\n",
       "    <tr>\n",
       "      <th>70536</th>\n",
       "      <td>769500</td>\n",
       "      <td>조명|천장등|펜던트조명</td>\n",
       "      <td>별점 0.0점</td>\n",
       "      <td>리뷰 쓰기첫 리뷰 두 배 적립</td>\n",
       "      <td>NaN</td>\n",
       "      <td>밀키웨이 팬던트</td>\n",
       "      <td>그린라이트</td>\n",
       "      <td>NaN</td>\n",
       "      <td>https://image.ohou.se/i/bucketplace-v2-develop...</td>\n",
       "      <td>미입점</td>\n",
       "      <td>예상가433,000사이즈정보없음출처led76.com</td>\n",
       "      <td>밀키웨이 5등/6등 팬던트</td>\n",
       "      <td>[[밀키웨이 팬던트, 밀키웨이 팬던트, 769503, 1.0]]</td>\n",
       "      <td>[769503, 769503]</td>\n",
       "      <td>7361</td>\n",
       "    </tr>\n",
       "    <tr>\n",
       "      <th>104092</th>\n",
       "      <td>294306</td>\n",
       "      <td>가구|테이블·식탁·책상|거실·소파테이블</td>\n",
       "      <td>별점 0.0점</td>\n",
       "      <td>리뷰 쓰기첫 리뷰 두 배 적립</td>\n",
       "      <td>NaN</td>\n",
       "      <td>오피스 단 소파 티 테이블 cot60010roa cot60070roa</td>\n",
       "      <td>리바트</td>\n",
       "      <td>NaN</td>\n",
       "      <td>https://image.ohou.se/i/bucketplace-v2-develop...</td>\n",
       "      <td>미입점</td>\n",
       "      <td>예상가125,000사이즈정보없음출처smartstore.naver.com</td>\n",
       "      <td>오피스 600G 2단 소파 티테이블 COT60010ROA / COT60070ROA...</td>\n",
       "      <td>[]</td>\n",
       "      <td>[]</td>\n",
       "      <td>-1</td>\n",
       "    </tr>\n",
       "    <tr>\n",
       "      <th>145201</th>\n",
       "      <td>511457</td>\n",
       "      <td>수납·정리|서랍장·트롤리|트롤리·이동식선반</td>\n",
       "      <td>별점 0.0점</td>\n",
       "      <td>리뷰 쓰기첫 리뷰 두 배 적립</td>\n",
       "      <td>NaN</td>\n",
       "      <td>호텔 트롤리 솔리드 우드 커피 테이블 목적 선반 디스플레이 랙 가정 용 더블 레이어</td>\n",
       "      <td>알리익스프레스</td>\n",
       "      <td>NaN</td>\n",
       "      <td>https://image.ohou.se/i/bucketplace-v2-develop...</td>\n",
       "      <td>미입점</td>\n",
       "      <td>예상가정보없음사이즈정보없음출처정보없음</td>\n",
       "      <td>호텔 트롤리 솔리드 우드 커피 테이블 다목적 선반 디스플레이 랙 가정용 더블 레이어</td>\n",
       "      <td>[]</td>\n",
       "      <td>[]</td>\n",
       "      <td>-1</td>\n",
       "    </tr>\n",
       "    <tr>\n",
       "      <th>135099</th>\n",
       "      <td>51913</td>\n",
       "      <td>패브릭|러그·카페트|페르시안러그</td>\n",
       "      <td>별점 4.7점</td>\n",
       "      <td>(49)개 리뷰</td>\n",
       "      <td>62,000원</td>\n",
       "      <td>페르시안 사프란 카페트</td>\n",
       "      <td>바이빔</td>\n",
       "      <td>38%</td>\n",
       "      <td>https://image.ohou.se/i/bucketplace-v2-develop...</td>\n",
       "      <td>NaN</td>\n",
       "      <td>NaN</td>\n",
       "      <td>페르시안 사프란 카페트 4size</td>\n",
       "      <td>[[페르시안 사프란 카페트, 페르시안 샤반 카페트, 51910, 0.78260869...</td>\n",
       "      <td>[36009, 84887, 84887]</td>\n",
       "      <td>1058</td>\n",
       "    </tr>\n",
       "    <tr>\n",
       "      <th>98165</th>\n",
       "      <td>1696084</td>\n",
       "      <td>패브릭|블라인드·롤스크린|블라인드</td>\n",
       "      <td>별점 5.0점</td>\n",
       "      <td>(4)개 리뷰</td>\n",
       "      <td>NaN</td>\n",
       "      <td>알루미늄 블라인드</td>\n",
       "      <td>아라크네</td>\n",
       "      <td>NaN</td>\n",
       "      <td>https://image.ohou.se/i/bucketplace-v2-develop...</td>\n",
       "      <td>NaN</td>\n",
       "      <td>NaN</td>\n",
       "      <td>알루미늄블라인드 34colors</td>\n",
       "      <td>[[알루미늄 블라인드, 알루미늄 블라인드, 819244, 1.0], [알루미늄 블라...</td>\n",
       "      <td>[819244, 877607, 111361, 13247, 25838, 138310]</td>\n",
       "      <td>598</td>\n",
       "    </tr>\n",
       "    <tr>\n",
       "      <th>120409</th>\n",
       "      <td>1547377</td>\n",
       "      <td>가구|의자|인테리어의자</td>\n",
       "      <td>별점 0.0점</td>\n",
       "      <td>리뷰 쓰기첫 리뷰 두 배 적립</td>\n",
       "      <td>NaN</td>\n",
       "      <td>체어</td>\n",
       "      <td>코헨</td>\n",
       "      <td>NaN</td>\n",
       "      <td>https://image.ohou.se/i/bucketplace-v2-develop...</td>\n",
       "      <td>미입점</td>\n",
       "      <td>예상가176,000사이즈정보없음출처www.thecohen.co.kr</td>\n",
       "      <td>체어29</td>\n",
       "      <td>[[체어, 체어, 83581, 1.0], [체어, 체어, 201902, 1.0], ...</td>\n",
       "      <td>[83581, 201902, 69210, 51261, 279122, 346391, ...</td>\n",
       "      <td>47</td>\n",
       "    </tr>\n",
       "    <tr>\n",
       "      <th>42764</th>\n",
       "      <td>98984</td>\n",
       "      <td>패브릭|러그·카페트|사이잘룩러그</td>\n",
       "      <td>별점 0.0점</td>\n",
       "      <td>리뷰 쓰기첫 리뷰 두 배 적립</td>\n",
       "      <td>NaN</td>\n",
       "      <td>네이처 260 놀이 방 매트</td>\n",
       "      <td>크림하우스</td>\n",
       "      <td>NaN</td>\n",
       "      <td>https://image.ohou.se/i/bucketplace-v2-develop...</td>\n",
       "      <td>미입점</td>\n",
       "      <td>예상가226,000사이즈정보없음출처www.creamhaus.com</td>\n",
       "      <td>네이처 260 놀이방매트</td>\n",
       "      <td>[]</td>\n",
       "      <td>[]</td>\n",
       "      <td>-1</td>\n",
       "    </tr>\n",
       "  </tbody>\n",
       "</table>\n",
       "</div>"
      ],
      "text/plain": [
       "           item                 category   rating            review    price  \\\n",
       "20731     10713         가구|거실장·TV장|일반거실장  별점 0.0점  리뷰 쓰기첫 리뷰 두 배 적립      NaN   \n",
       "64737    151236    데코·식물|플라워·식물|화병·화분|화분  별점 4.3점           (4)개 리뷰      NaN   \n",
       "139573   639818             데코·식물|시계|벽시계  별점 0.0점  리뷰 쓰기첫 리뷰 두 배 적립      NaN   \n",
       "70536    769500             조명|천장등|펜던트조명  별점 0.0점  리뷰 쓰기첫 리뷰 두 배 적립      NaN   \n",
       "104092   294306    가구|테이블·식탁·책상|거실·소파테이블  별점 0.0점  리뷰 쓰기첫 리뷰 두 배 적립      NaN   \n",
       "145201   511457  수납·정리|서랍장·트롤리|트롤리·이동식선반  별점 0.0점  리뷰 쓰기첫 리뷰 두 배 적립      NaN   \n",
       "135099    51913        패브릭|러그·카페트|페르시안러그  별점 4.7점          (49)개 리뷰  62,000원   \n",
       "98165   1696084       패브릭|블라인드·롤스크린|블라인드  별점 5.0점           (4)개 리뷰      NaN   \n",
       "120409  1547377             가구|의자|인테리어의자  별점 0.0점  리뷰 쓰기첫 리뷰 두 배 적립      NaN   \n",
       "42764     98984        패브릭|러그·카페트|사이잘룩러그  별점 0.0점  리뷰 쓰기첫 리뷰 두 배 적립      NaN   \n",
       "\n",
       "                                    preprocessed_title    seller  \\\n",
       "20731                              media console white       엘름    \n",
       "64737                                 모던 시멘트 테라 화분 도트벨     먼데이팟    \n",
       "139573                                    플라워 아크릴 벽 시계    썬데이감성    \n",
       "70536                                         밀키웨이 팬던트    그린라이트    \n",
       "104092          오피스 단 소파 티 테이블 cot60010roa cot60070roa      리바트    \n",
       "145201  호텔 트롤리 솔리드 우드 커피 테이블 목적 선반 디스플레이 랙 가정 용 더블 레이어  알리익스프레스    \n",
       "135099                                    페르시안 사프란 카페트      바이빔    \n",
       "98165                                        알루미늄 블라인드     아라크네    \n",
       "120409                                              체어       코헨    \n",
       "42764                                  네이처 260 놀이 방 매트    크림하우스    \n",
       "\n",
       "       discount_rate                                              image  \\\n",
       "20731            NaN  https://image.ohou.se/i/bucketplace-v2-develop...   \n",
       "64737            NaN  https://image.ohou.se/i/bucketplace-v2-develop...   \n",
       "139573           NaN  https://image.ohou.se/i/bucketplace-v2-develop...   \n",
       "70536            NaN  https://image.ohou.se/i/bucketplace-v2-develop...   \n",
       "104092           NaN  https://image.ohou.se/i/bucketplace-v2-develop...   \n",
       "145201           NaN  https://image.ohou.se/i/bucketplace-v2-develop...   \n",
       "135099           38%  https://image.ohou.se/i/bucketplace-v2-develop...   \n",
       "98165            NaN  https://image.ohou.se/i/bucketplace-v2-develop...   \n",
       "120409           NaN  https://image.ohou.se/i/bucketplace-v2-develop...   \n",
       "42764            NaN  https://image.ohou.se/i/bucketplace-v2-develop...   \n",
       "\n",
       "       available_product                            predict_price  \\\n",
       "20731                미입점        예상가215,000사이즈정보없음출처www.ellm.co.kr   \n",
       "64737                미입점                    예상가7,700사이즈정보없음출처정보없음   \n",
       "139573               NaN                                      NaN   \n",
       "70536                미입점             예상가433,000사이즈정보없음출처led76.com   \n",
       "104092               미입점  예상가125,000사이즈정보없음출처smartstore.naver.com   \n",
       "145201               미입점                     예상가정보없음사이즈정보없음출처정보없음   \n",
       "135099               NaN                                      NaN   \n",
       "98165                NaN                                      NaN   \n",
       "120409               미입점    예상가176,000사이즈정보없음출처www.thecohen.co.kr   \n",
       "42764                미입점     예상가226,000사이즈정보없음출처www.creamhaus.com   \n",
       "\n",
       "                                           original_title  \\\n",
       "20731                               Media Console - White   \n",
       "64737                            모던 시멘트 테라조 화분 도트벨_4sizes   \n",
       "139573                                        플라워 아크릴 벽시계   \n",
       "70536                                      밀키웨이 5등/6등 팬던트   \n",
       "104092   오피스 600G 2단 소파 티테이블 COT60010ROA / COT60070ROA...   \n",
       "145201    호텔 트롤리 솔리드 우드 커피 테이블 다목적 선반 디스플레이 랙 가정용 더블 레이어    \n",
       "135099                                 페르시안 사프란 카페트 4size   \n",
       "98165                                   알루미늄블라인드 34colors   \n",
       "120409                                               체어29   \n",
       "42764                                       네이처 260 놀이방매트   \n",
       "\n",
       "                                          similarity_list  \\\n",
       "20731                                                  []   \n",
       "64737                                                  []   \n",
       "139573                                                 []   \n",
       "70536                 [[밀키웨이 팬던트, 밀키웨이 팬던트, 769503, 1.0]]   \n",
       "104092                                                 []   \n",
       "145201                                                 []   \n",
       "135099  [[페르시안 사프란 카페트, 페르시안 샤반 카페트, 51910, 0.78260869...   \n",
       "98165   [[알루미늄 블라인드, 알루미늄 블라인드, 819244, 1.0], [알루미늄 블라...   \n",
       "120409  [[체어, 체어, 83581, 1.0], [체어, 체어, 201902, 1.0], ...   \n",
       "42764                                                  []   \n",
       "\n",
       "                                        similar_item_list  cls_id  \n",
       "20731                                                  []      -1  \n",
       "64737                                                  []      -1  \n",
       "139573                                                 []      -1  \n",
       "70536                                    [769503, 769503]    7361  \n",
       "104092                                                 []      -1  \n",
       "145201                                                 []      -1  \n",
       "135099                              [36009, 84887, 84887]    1058  \n",
       "98165      [819244, 877607, 111361, 13247, 25838, 138310]     598  \n",
       "120409  [83581, 201902, 69210, 51261, 279122, 346391, ...      47  \n",
       "42764                                                  []      -1  "
      ]
     },
     "execution_count": 81,
     "metadata": {},
     "output_type": "execute_result"
    }
   ],
   "source": [
    "item_.sample(10)"
   ]
  },
  {
   "cell_type": "code",
   "execution_count": 82,
   "metadata": {},
   "outputs": [
    {
     "data": {
      "text/plain": [
       "list"
      ]
     },
     "execution_count": 82,
     "metadata": {},
     "output_type": "execute_result"
    }
   ],
   "source": [
    "type(item_[item_.cls_id!=-1].iloc[0][\"similar_item_list\"])"
   ]
  },
  {
   "cell_type": "code",
   "execution_count": 83,
   "metadata": {},
   "outputs": [
    {
     "name": "stderr",
     "output_type": "stream",
     "text": [
      "/tmp/ipykernel_44871/3677011072.py:3: SettingWithCopyWarning: \n",
      "A value is trying to be set on a copy of a slice from a DataFrame.\n",
      "Try using .loc[row_indexer,col_indexer] = value instead\n",
      "\n",
      "See the caveats in the documentation: https://pandas.pydata.org/pandas-docs/stable/user_guide/indexing.html#returning-a-view-versus-a-copy\n",
      "  item_[\"similar_item_list\"] = item_[\"similar_item_list\"].apply(lambda x: np.NaN if len(x) == 0 else \"|\".join(map(str,x)))\n"
     ]
    }
   ],
   "source": [
    "import numpy as np\n",
    "\n",
    "item_[\"similar_item_list\"] = item_[\"similar_item_list\"].apply(lambda x: np.NaN if len(x) == 0 else \"|\".join(map(str,x)))"
   ]
  },
  {
   "cell_type": "code",
   "execution_count": 84,
   "metadata": {},
   "outputs": [
    {
     "data": {
      "text/html": [
       "<div>\n",
       "<style scoped>\n",
       "    .dataframe tbody tr th:only-of-type {\n",
       "        vertical-align: middle;\n",
       "    }\n",
       "\n",
       "    .dataframe tbody tr th {\n",
       "        vertical-align: top;\n",
       "    }\n",
       "\n",
       "    .dataframe thead th {\n",
       "        text-align: right;\n",
       "    }\n",
       "</style>\n",
       "<table border=\"1\" class=\"dataframe\">\n",
       "  <thead>\n",
       "    <tr style=\"text-align: right;\">\n",
       "      <th></th>\n",
       "      <th>item</th>\n",
       "      <th>category</th>\n",
       "      <th>rating</th>\n",
       "      <th>review</th>\n",
       "      <th>price</th>\n",
       "      <th>preprocessed_title</th>\n",
       "      <th>seller</th>\n",
       "      <th>discount_rate</th>\n",
       "      <th>image</th>\n",
       "      <th>available_product</th>\n",
       "      <th>predict_price</th>\n",
       "      <th>original_title</th>\n",
       "      <th>similarity_list</th>\n",
       "      <th>similar_item_list</th>\n",
       "      <th>cls_id</th>\n",
       "    </tr>\n",
       "  </thead>\n",
       "  <tbody>\n",
       "    <tr>\n",
       "      <th>18053</th>\n",
       "      <td>55</td>\n",
       "      <td>가구|선반|스탠드선반</td>\n",
       "      <td>별점 4.7점</td>\n",
       "      <td>(409)개 리뷰</td>\n",
       "      <td>NaN</td>\n",
       "      <td>lerberg 철제 선반 l</td>\n",
       "      <td>이케아</td>\n",
       "      <td>NaN</td>\n",
       "      <td>https://image.ohou.se/i/bucketplace-v2-develop...</td>\n",
       "      <td>미입점</td>\n",
       "      <td>사이즈60.0 × 35.0 × 148.0 (cm)출처정보없음</td>\n",
       "      <td>LERBERG 철제선반 L 4colors</td>\n",
       "      <td>[[lerberg 철제 선반 l, lerberg 철제 선반 s, 769, 0.933...</td>\n",
       "      <td>769|236215|769|7390|133699|133700|153789|15379...</td>\n",
       "      <td>0</td>\n",
       "    </tr>\n",
       "    <tr>\n",
       "      <th>84812</th>\n",
       "      <td>89</td>\n",
       "      <td>주방용품|주방수납·정리|주방수납용품</td>\n",
       "      <td>별점 0.0점</td>\n",
       "      <td>리뷰 쓰기첫 리뷰 두 배 적립</td>\n",
       "      <td>NaN</td>\n",
       "      <td>세라믹 단 수저 통</td>\n",
       "      <td>리벤스</td>\n",
       "      <td>NaN</td>\n",
       "      <td>https://image.ohou.se/i/bucketplace-v2-develop...</td>\n",
       "      <td>미입점</td>\n",
       "      <td>예상가8,900사이즈27.0 × 8.0 × 12.0 (cm)출처www.11st.co.kr</td>\n",
       "      <td>[품절]세라믹 4단 수저통</td>\n",
       "      <td>[[세라믹 단 수저 통, 세라믹 물 단 수저 통, 1017200, 0.9090909...</td>\n",
       "      <td>1017200|743437|743437|1017200</td>\n",
       "      <td>1</td>\n",
       "    </tr>\n",
       "    <tr>\n",
       "      <th>91253</th>\n",
       "      <td>103</td>\n",
       "      <td>패브릭|매트|주방·다용도매트</td>\n",
       "      <td>별점 0.0점</td>\n",
       "      <td>리뷰 쓰기첫 리뷰 두 배 적립</td>\n",
       "      <td>NaN</td>\n",
       "      <td>스트라이프 다용 러그</td>\n",
       "      <td>모던하우스</td>\n",
       "      <td>NaN</td>\n",
       "      <td>https://image.ohou.se/i/bucketplace-v2-develop...</td>\n",
       "      <td>미입점</td>\n",
       "      <td>예상가29,900사이즈정보없음출처modernhouse.elandmall.com</td>\n",
       "      <td>[단종]스트라이프 다용도 러그</td>\n",
       "      <td>[[스트라이프 다용 러그, 스트라이프 베드 러너, 380, 0.72727272727...</td>\n",
       "      <td>350421|350421</td>\n",
       "      <td>2</td>\n",
       "    </tr>\n",
       "    <tr>\n",
       "      <th>132424</th>\n",
       "      <td>107</td>\n",
       "      <td>주방용품|주방수납·정리|주방수납용품</td>\n",
       "      <td>별점 5.0점</td>\n",
       "      <td>(11)개 리뷰</td>\n",
       "      <td>NaN</td>\n",
       "      <td>트리플 스퀘어 수저 통</td>\n",
       "      <td>모던하우스</td>\n",
       "      <td>NaN</td>\n",
       "      <td>https://image.ohou.se/i/bucketplace-v2-develop...</td>\n",
       "      <td>미입점</td>\n",
       "      <td>예상가17,900사이즈정보없음출처modernhouse.elandmall.com</td>\n",
       "      <td>트리플 스퀘어 수저통</td>\n",
       "      <td>[[트리플 스퀘어 수저 통, 트리플 스퀘어 수저 통 레드, 1436, 0.88888...</td>\n",
       "      <td>1436|1436</td>\n",
       "      <td>3</td>\n",
       "    </tr>\n",
       "    <tr>\n",
       "      <th>47540</th>\n",
       "      <td>108</td>\n",
       "      <td>주방용품|주방수납·정리|주방수납용품</td>\n",
       "      <td>별점 0.0점</td>\n",
       "      <td>리뷰 쓰기첫 리뷰 두 배 적립</td>\n",
       "      <td>NaN</td>\n",
       "      <td>데 일리 단 수저</td>\n",
       "      <td>모던하우스</td>\n",
       "      <td>NaN</td>\n",
       "      <td>https://image.ohou.se/i/bucketplace-v2-develop...</td>\n",
       "      <td>미입점</td>\n",
       "      <td>예상가7,900사이즈18.0 × 9.0 × 13.0 (cm)출처modernhouse...</td>\n",
       "      <td>데일리 2단 수저꽂이</td>\n",
       "      <td>[]</td>\n",
       "      <td>143</td>\n",
       "      <td>4</td>\n",
       "    </tr>\n",
       "    <tr>\n",
       "      <th>...</th>\n",
       "      <td>...</td>\n",
       "      <td>...</td>\n",
       "      <td>...</td>\n",
       "      <td>...</td>\n",
       "      <td>...</td>\n",
       "      <td>...</td>\n",
       "      <td>...</td>\n",
       "      <td>...</td>\n",
       "      <td>...</td>\n",
       "      <td>...</td>\n",
       "      <td>...</td>\n",
       "      <td>...</td>\n",
       "      <td>...</td>\n",
       "      <td>...</td>\n",
       "      <td>...</td>\n",
       "    </tr>\n",
       "    <tr>\n",
       "      <th>97177</th>\n",
       "      <td>1808150</td>\n",
       "      <td>수납·정리|화장대·테이블정리|화장품정리용품</td>\n",
       "      <td>별점 0.0점</td>\n",
       "      <td>리뷰 쓰기첫 리뷰 두 배 적립</td>\n",
       "      <td>NaN</td>\n",
       "      <td>아크릴 화장 정리 함</td>\n",
       "      <td>한샘</td>\n",
       "      <td>NaN</td>\n",
       "      <td>https://image.ohou.se/i/bucketplace-v2-develop...</td>\n",
       "      <td>미입점</td>\n",
       "      <td>예상가정보없음사이즈정보없음출처mall.hanssem.com</td>\n",
       "      <td>아크릴 화장대 정리함</td>\n",
       "      <td>[[아크릴 화장 정리 함, 아크릴 화장품 정리 함 소형, 150602, 0.8461...</td>\n",
       "      <td>150602|337023|337060|1488694</td>\n",
       "      <td>2829</td>\n",
       "    </tr>\n",
       "    <tr>\n",
       "      <th>125735</th>\n",
       "      <td>1811298</td>\n",
       "      <td>패브릭|쿠션·방석|쿠션</td>\n",
       "      <td>별점 0.0점</td>\n",
       "      <td>리뷰 쓰기첫 리뷰 두 배 적립</td>\n",
       "      <td>NaN</td>\n",
       "      <td>코튼 캔버스 쿠션 커버</td>\n",
       "      <td>h&amp;m home</td>\n",
       "      <td>NaN</td>\n",
       "      <td>https://image.ohou.se/i/bucketplace-v2-develop...</td>\n",
       "      <td>미입점</td>\n",
       "      <td>예상가7,900사이즈정보없음출처www2.hm.com</td>\n",
       "      <td>코튼 캔버스 쿠션 커버</td>\n",
       "      <td>[[코튼 캔버스 쿠션 커버, 코튼 캔버스 쿠션 커버, 249323, 1.0], [코...</td>\n",
       "      <td>249323|1224778|537571|1677025|28642|441643|516...</td>\n",
       "      <td>821</td>\n",
       "    </tr>\n",
       "    <tr>\n",
       "      <th>22242</th>\n",
       "      <td>1814392</td>\n",
       "      <td>가전·디지털|생활·건강가전|기타생활·건강가전</td>\n",
       "      <td>별점 0.0점</td>\n",
       "      <td>리뷰 쓰기첫 리뷰 두 배 적립</td>\n",
       "      <td>NaN</td>\n",
       "      <td>nest learning thermostat</td>\n",
       "      <td>Google</td>\n",
       "      <td>NaN</td>\n",
       "      <td>https://image.ohou.se/i/bucketplace-v2-develop...</td>\n",
       "      <td>미입점</td>\n",
       "      <td>예상가정보없음사이즈정보없음출처store.google.com</td>\n",
       "      <td>[해외]Nest Learning Thermostat</td>\n",
       "      <td>[[nest learning thermostat, nest thermostat e,...</td>\n",
       "      <td>1609518</td>\n",
       "      <td>9156</td>\n",
       "    </tr>\n",
       "    <tr>\n",
       "      <th>32440</th>\n",
       "      <td>1817818</td>\n",
       "      <td>가구|테이블·식탁·책상|식탁|식탁·입식테이블</td>\n",
       "      <td>별점 0.0점</td>\n",
       "      <td>리뷰 쓰기첫 리뷰 두 배 적립</td>\n",
       "      <td>NaN</td>\n",
       "      <td>volini ceramic table</td>\n",
       "      <td>플랫포인트</td>\n",
       "      <td>NaN</td>\n",
       "      <td>https://image.ohou.se/i/bucketplace-v2-develop...</td>\n",
       "      <td>미입점</td>\n",
       "      <td>예상가정보없음사이즈정보없음출처www.flatpoint.co.kr</td>\n",
       "      <td>VOLINI CERAMIC TABLE</td>\n",
       "      <td>[[volini ceramic table, volini ceramic table 1...</td>\n",
       "      <td>1203315|1132073</td>\n",
       "      <td>8611</td>\n",
       "    </tr>\n",
       "    <tr>\n",
       "      <th>78075</th>\n",
       "      <td>1819743</td>\n",
       "      <td>데코·식물|디퓨저·캔들|홈퍼퓸·사쉐</td>\n",
       "      <td>별점 0.0점</td>\n",
       "      <td>리뷰 쓰기첫 리뷰 두 배 적립</td>\n",
       "      <td>NaN</td>\n",
       "      <td>블랙베리 앤 베이 코롱</td>\n",
       "      <td>조말론</td>\n",
       "      <td>NaN</td>\n",
       "      <td>https://image.ohou.se/i/bucketplace-v2-develop...</td>\n",
       "      <td>미입점</td>\n",
       "      <td>예상가정보없음사이즈정보없음출처www.jomalone.co.kr</td>\n",
       "      <td>블랙베리 앤 베이 코롱</td>\n",
       "      <td>[]</td>\n",
       "      <td>1038053</td>\n",
       "      <td>8312</td>\n",
       "    </tr>\n",
       "  </tbody>\n",
       "</table>\n",
       "<p>25039 rows × 15 columns</p>\n",
       "</div>"
      ],
      "text/plain": [
       "           item                  category   rating            review price  \\\n",
       "18053        55               가구|선반|스탠드선반  별점 4.7점         (409)개 리뷰   NaN   \n",
       "84812        89       주방용품|주방수납·정리|주방수납용품  별점 0.0점  리뷰 쓰기첫 리뷰 두 배 적립   NaN   \n",
       "91253       103           패브릭|매트|주방·다용도매트  별점 0.0점  리뷰 쓰기첫 리뷰 두 배 적립   NaN   \n",
       "132424      107       주방용품|주방수납·정리|주방수납용품  별점 5.0점          (11)개 리뷰   NaN   \n",
       "47540       108       주방용품|주방수납·정리|주방수납용품  별점 0.0점  리뷰 쓰기첫 리뷰 두 배 적립   NaN   \n",
       "...         ...                       ...      ...               ...   ...   \n",
       "97177   1808150   수납·정리|화장대·테이블정리|화장품정리용품  별점 0.0점  리뷰 쓰기첫 리뷰 두 배 적립   NaN   \n",
       "125735  1811298              패브릭|쿠션·방석|쿠션  별점 0.0점  리뷰 쓰기첫 리뷰 두 배 적립   NaN   \n",
       "22242   1814392  가전·디지털|생활·건강가전|기타생활·건강가전  별점 0.0점  리뷰 쓰기첫 리뷰 두 배 적립   NaN   \n",
       "32440   1817818  가구|테이블·식탁·책상|식탁|식탁·입식테이블  별점 0.0점  리뷰 쓰기첫 리뷰 두 배 적립   NaN   \n",
       "78075   1819743       데코·식물|디퓨저·캔들|홈퍼퓸·사쉐  별점 0.0점  리뷰 쓰기첫 리뷰 두 배 적립   NaN   \n",
       "\n",
       "              preprocessed_title     seller discount_rate  \\\n",
       "18053            lerberg 철제 선반 l       이케아            NaN   \n",
       "84812                 세라믹 단 수저 통       리벤스            NaN   \n",
       "91253                스트라이프 다용 러그     모던하우스            NaN   \n",
       "132424              트리플 스퀘어 수저 통     모던하우스            NaN   \n",
       "47540                  데 일리 단 수저     모던하우스            NaN   \n",
       "...                          ...        ...           ...   \n",
       "97177                아크릴 화장 정리 함        한샘            NaN   \n",
       "125735              코튼 캔버스 쿠션 커버  h&m home            NaN   \n",
       "22242   nest learning thermostat    Google            NaN   \n",
       "32440       volini ceramic table     플랫포인트            NaN   \n",
       "78075               블랙베리 앤 베이 코롱       조말론            NaN   \n",
       "\n",
       "                                                    image available_product  \\\n",
       "18053   https://image.ohou.se/i/bucketplace-v2-develop...               미입점   \n",
       "84812   https://image.ohou.se/i/bucketplace-v2-develop...               미입점   \n",
       "91253   https://image.ohou.se/i/bucketplace-v2-develop...               미입점   \n",
       "132424  https://image.ohou.se/i/bucketplace-v2-develop...               미입점   \n",
       "47540   https://image.ohou.se/i/bucketplace-v2-develop...               미입점   \n",
       "...                                                   ...               ...   \n",
       "97177   https://image.ohou.se/i/bucketplace-v2-develop...               미입점   \n",
       "125735  https://image.ohou.se/i/bucketplace-v2-develop...               미입점   \n",
       "22242   https://image.ohou.se/i/bucketplace-v2-develop...               미입점   \n",
       "32440   https://image.ohou.se/i/bucketplace-v2-develop...               미입점   \n",
       "78075   https://image.ohou.se/i/bucketplace-v2-develop...               미입점   \n",
       "\n",
       "                                            predict_price  \\\n",
       "18053                   사이즈60.0 × 35.0 × 148.0 (cm)출처정보없음   \n",
       "84812   예상가8,900사이즈27.0 × 8.0 × 12.0 (cm)출처www.11st.co.kr   \n",
       "91253         예상가29,900사이즈정보없음출처modernhouse.elandmall.com   \n",
       "132424        예상가17,900사이즈정보없음출처modernhouse.elandmall.com   \n",
       "47540   예상가7,900사이즈18.0 × 9.0 × 13.0 (cm)출처modernhouse...   \n",
       "...                                                   ...   \n",
       "97177                    예상가정보없음사이즈정보없음출처mall.hanssem.com   \n",
       "125735                       예상가7,900사이즈정보없음출처www2.hm.com   \n",
       "22242                    예상가정보없음사이즈정보없음출처store.google.com   \n",
       "32440                 예상가정보없음사이즈정보없음출처www.flatpoint.co.kr   \n",
       "78075                  예상가정보없음사이즈정보없음출처www.jomalone.co.kr   \n",
       "\n",
       "                      original_title  \\\n",
       "18053         LERBERG 철제선반 L 4colors   \n",
       "84812                 [품절]세라믹 4단 수저통   \n",
       "91253               [단종]스트라이프 다용도 러그   \n",
       "132424                  트리플 스퀘어 수저통    \n",
       "47540                    데일리 2단 수저꽂이   \n",
       "...                              ...   \n",
       "97177                    아크릴 화장대 정리함   \n",
       "125735                  코튼 캔버스 쿠션 커버   \n",
       "22242   [해외]Nest Learning Thermostat   \n",
       "32440           VOLINI CERAMIC TABLE   \n",
       "78075                   블랙베리 앤 베이 코롱   \n",
       "\n",
       "                                          similarity_list  \\\n",
       "18053   [[lerberg 철제 선반 l, lerberg 철제 선반 s, 769, 0.933...   \n",
       "84812   [[세라믹 단 수저 통, 세라믹 물 단 수저 통, 1017200, 0.9090909...   \n",
       "91253   [[스트라이프 다용 러그, 스트라이프 베드 러너, 380, 0.72727272727...   \n",
       "132424  [[트리플 스퀘어 수저 통, 트리플 스퀘어 수저 통 레드, 1436, 0.88888...   \n",
       "47540                                                  []   \n",
       "...                                                   ...   \n",
       "97177   [[아크릴 화장 정리 함, 아크릴 화장품 정리 함 소형, 150602, 0.8461...   \n",
       "125735  [[코튼 캔버스 쿠션 커버, 코튼 캔버스 쿠션 커버, 249323, 1.0], [코...   \n",
       "22242   [[nest learning thermostat, nest thermostat e,...   \n",
       "32440   [[volini ceramic table, volini ceramic table 1...   \n",
       "78075                                                  []   \n",
       "\n",
       "                                        similar_item_list  cls_id  \n",
       "18053   769|236215|769|7390|133699|133700|153789|15379...       0  \n",
       "84812                       1017200|743437|743437|1017200       1  \n",
       "91253                                       350421|350421       2  \n",
       "132424                                          1436|1436       3  \n",
       "47540                                                 143       4  \n",
       "...                                                   ...     ...  \n",
       "97177                        150602|337023|337060|1488694    2829  \n",
       "125735  249323|1224778|537571|1677025|28642|441643|516...     821  \n",
       "22242                                             1609518    9156  \n",
       "32440                                     1203315|1132073    8611  \n",
       "78075                                             1038053    8312  \n",
       "\n",
       "[25039 rows x 15 columns]"
      ]
     },
     "execution_count": 84,
     "metadata": {},
     "output_type": "execute_result"
    }
   ],
   "source": [
    "item_[item_.cls_id!=-1]"
   ]
  },
  {
   "cell_type": "code",
   "execution_count": 85,
   "metadata": {},
   "outputs": [
    {
     "name": "stderr",
     "output_type": "stream",
     "text": [
      "/tmp/ipykernel_44871/4098756355.py:1: SettingWithCopyWarning: \n",
      "A value is trying to be set on a copy of a slice from a DataFrame\n",
      "\n",
      "See the caveats in the documentation: https://pandas.pydata.org/pandas-docs/stable/user_guide/indexing.html#returning-a-view-versus-a-copy\n",
      "  item_.drop(columns=[\"similarity_list\"], inplace=True)\n"
     ]
    }
   ],
   "source": [
    "item_.drop(columns=[\"similarity_list\"], inplace=True)"
   ]
  },
  {
   "cell_type": "code",
   "execution_count": 86,
   "metadata": {},
   "outputs": [
    {
     "data": {
      "text/html": [
       "<div>\n",
       "<style scoped>\n",
       "    .dataframe tbody tr th:only-of-type {\n",
       "        vertical-align: middle;\n",
       "    }\n",
       "\n",
       "    .dataframe tbody tr th {\n",
       "        vertical-align: top;\n",
       "    }\n",
       "\n",
       "    .dataframe thead th {\n",
       "        text-align: right;\n",
       "    }\n",
       "</style>\n",
       "<table border=\"1\" class=\"dataframe\">\n",
       "  <thead>\n",
       "    <tr style=\"text-align: right;\">\n",
       "      <th></th>\n",
       "      <th>item</th>\n",
       "      <th>category</th>\n",
       "      <th>rating</th>\n",
       "      <th>review</th>\n",
       "      <th>price</th>\n",
       "      <th>preprocessed_title</th>\n",
       "      <th>seller</th>\n",
       "      <th>discount_rate</th>\n",
       "      <th>image</th>\n",
       "      <th>available_product</th>\n",
       "      <th>predict_price</th>\n",
       "      <th>original_title</th>\n",
       "      <th>similar_item_list</th>\n",
       "      <th>cls_id</th>\n",
       "    </tr>\n",
       "  </thead>\n",
       "  <tbody>\n",
       "    <tr>\n",
       "      <th>2215</th>\n",
       "      <td>1</td>\n",
       "      <td>가구|서랍·수납장|수납장</td>\n",
       "      <td>별점 4.2점</td>\n",
       "      <td>(67)개 리뷰</td>\n",
       "      <td>NaN</td>\n",
       "      <td>66808</td>\n",
       "      <td>DRAWER</td>\n",
       "      <td>NaN</td>\n",
       "      <td>https://image.ohou.se/i/bucketplace-v2-develop...</td>\n",
       "      <td>미입점</td>\n",
       "      <td>예상가정보없음사이즈59.0 × 37.0 × 90.0 (cm)출처www.casa.co.kr</td>\n",
       "      <td>66808</td>\n",
       "      <td>NaN</td>\n",
       "      <td>-1</td>\n",
       "    </tr>\n",
       "  </tbody>\n",
       "</table>\n",
       "</div>"
      ],
      "text/plain": [
       "      item       category   rating    review price preprocessed_title  \\\n",
       "2215     1  가구|서랍·수납장|수납장  별점 4.2점  (67)개 리뷰   NaN              66808   \n",
       "\n",
       "       seller discount_rate  \\\n",
       "2215  DRAWER            NaN   \n",
       "\n",
       "                                                  image available_product  \\\n",
       "2215  https://image.ohou.se/i/bucketplace-v2-develop...               미입점   \n",
       "\n",
       "                                          predict_price original_title  \\\n",
       "2215  예상가정보없음사이즈59.0 × 37.0 × 90.0 (cm)출처www.casa.co.kr          66808   \n",
       "\n",
       "     similar_item_list  cls_id  \n",
       "2215               NaN      -1  "
      ]
     },
     "execution_count": 86,
     "metadata": {},
     "output_type": "execute_result"
    }
   ],
   "source": [
    "item_.head(1)"
   ]
  },
  {
   "cell_type": "code",
   "execution_count": 87,
   "metadata": {},
   "outputs": [],
   "source": [
    "from time import time\n",
    "\n",
    "now = str(round(time()))[5:]\n",
    "item_.to_csv(f\"clustered_item_{now}.csv\", index=False)"
   ]
  },
  {
   "cell_type": "code",
   "execution_count": null,
   "metadata": {},
   "outputs": [],
   "source": []
  },
  {
   "cell_type": "code",
   "execution_count": null,
   "metadata": {},
   "outputs": [],
   "source": []
  }
 ],
 "metadata": {
  "kernelspec": {
   "display_name": "base",
   "language": "python",
   "name": "python3"
  },
  "language_info": {
   "codemirror_mode": {
    "name": "ipython",
    "version": 3
   },
   "file_extension": ".py",
   "mimetype": "text/x-python",
   "name": "python",
   "nbconvert_exporter": "python",
   "pygments_lexer": "ipython3",
   "version": "3.8.5"
  },
  "orig_nbformat": 4,
  "vscode": {
   "interpreter": {
    "hash": "d4d1e4263499bec80672ea0156c357c1ee493ec2b1c70f0acce89fc37c4a6abe"
   }
  }
 },
 "nbformat": 4,
 "nbformat_minor": 2
}
