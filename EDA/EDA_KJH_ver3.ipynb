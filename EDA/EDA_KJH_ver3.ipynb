{
 "cells": [
  {
   "cell_type": "code",
   "execution_count": 437,
   "metadata": {},
   "outputs": [],
   "source": [
    "import pandas as pd\n",
    "from tqdm import tqdm"
   ]
  },
  {
   "cell_type": "code",
   "execution_count": 438,
   "metadata": {},
   "outputs": [],
   "source": [
    "# TODO 추천에 활용하지 않을 category 목록들을 필터링합니다.\n",
    "# TODO 필터링 이후, similarity에 대한 BFS 알고리즘을 적용합니다 -> 이전에 구한 similarity가 전체 item을 기준으로 구해졌기 때문에, 예외 처리를 해줘야 합니다.\n",
    "# TODO BFS 알고리즘을 통해 찾아낸 clustering group을 만들어주고, \"ETC\"나 \"etc\"로 group된 item들은 -1로 변환합니다.\n",
    "# TODO house_interaction에 클러스터 결과를 merge해줍니다. 이때, 클러스터 그룹이 -1이거나 house_interaction에만 포함된 item들은 cluster_id.max() + 1을 더해줍니다.\n",
    "# TODO model을 학습해서 학습한 결과를 backend에 반영합니다.\n",
    "# TODO cluster-major-item list를 생성합니다."
   ]
  },
  {
   "cell_type": "code",
   "execution_count": 439,
   "metadata": {},
   "outputs": [],
   "source": [
    "item = pd.read_csv(\"similarity_item_99243.csv\")"
   ]
  },
  {
   "cell_type": "code",
   "execution_count": 440,
   "metadata": {},
   "outputs": [
    {
     "data": {
      "text/html": [
       "<div>\n",
       "<style scoped>\n",
       "    .dataframe tbody tr th:only-of-type {\n",
       "        vertical-align: middle;\n",
       "    }\n",
       "\n",
       "    .dataframe tbody tr th {\n",
       "        vertical-align: top;\n",
       "    }\n",
       "\n",
       "    .dataframe thead th {\n",
       "        text-align: right;\n",
       "    }\n",
       "</style>\n",
       "<table border=\"1\" class=\"dataframe\">\n",
       "  <thead>\n",
       "    <tr style=\"text-align: right;\">\n",
       "      <th></th>\n",
       "      <th>item</th>\n",
       "      <th>category</th>\n",
       "      <th>rating</th>\n",
       "      <th>review</th>\n",
       "      <th>price</th>\n",
       "      <th>preprocessed_title</th>\n",
       "      <th>seller</th>\n",
       "      <th>discount_rate</th>\n",
       "      <th>image</th>\n",
       "      <th>available_product</th>\n",
       "      <th>predict_price</th>\n",
       "      <th>original_title</th>\n",
       "      <th>similarity_list</th>\n",
       "    </tr>\n",
       "  </thead>\n",
       "  <tbody>\n",
       "    <tr>\n",
       "      <th>0</th>\n",
       "      <td>226754</td>\n",
       "      <td>유아·아동|완구·교구|신생아·영아완구</td>\n",
       "      <td>별점 0.0점</td>\n",
       "      <td>리뷰 쓰기첫 리뷰 두 배 적립</td>\n",
       "      <td>NaN</td>\n",
       "      <td>0 개월 한글 영어</td>\n",
       "      <td>FINDEN BEBE(핀데베베)</td>\n",
       "      <td>NaN</td>\n",
       "      <td>https://image.ohou.se/i/bucketplace-v2-develop...</td>\n",
       "      <td>미입점</td>\n",
       "      <td>예상가799,000사이즈정보없음출처smartstore.naver.com</td>\n",
       "      <td>0~36개월/한글영어</td>\n",
       "      <td>[]</td>\n",
       "    </tr>\n",
       "  </tbody>\n",
       "</table>\n",
       "</div>"
      ],
      "text/plain": [
       "     item              category   rating            review price  \\\n",
       "0  226754  유아·아동|완구·교구|신생아·영아완구  별점 0.0점  리뷰 쓰기첫 리뷰 두 배 적립   NaN   \n",
       "\n",
       "  preprocessed_title              seller discount_rate  \\\n",
       "0         0 개월 한글 영어  FINDEN BEBE(핀데베베)            NaN   \n",
       "\n",
       "                                               image available_product  \\\n",
       "0  https://image.ohou.se/i/bucketplace-v2-develop...               미입점   \n",
       "\n",
       "                             predict_price original_title similarity_list  \n",
       "0  예상가799,000사이즈정보없음출처smartstore.naver.com    0~36개월/한글영어              []  "
      ]
     },
     "execution_count": 440,
     "metadata": {},
     "output_type": "execute_result"
    }
   ],
   "source": [
    "item.head(1)"
   ]
  },
  {
   "cell_type": "code",
   "execution_count": 441,
   "metadata": {},
   "outputs": [],
   "source": [
    "del_list = [\n",
    "\"공구\",\n",
    "\"욕실용품\",\n",
    "\"유아·아동\",\n",
    "\"청소용품\",\n",
    "\"캠핑·레저\",\n",
    "\"반려동물\",\n",
    "\"생필품\",\n",
    "\"렌탈\",\n",
    "\"생활용품\",\n",
    "\"식품\",\n",
    "\"인테리어시공\",\n",
    "\"칼\",\n",
    "\"선풍기\",\n",
    "\"컵·잔·텀블러\",\n",
    "\"조리도구·도마\",\n",
    "\"홈갤러리\",\n",
    "\"전기요·온수매트\",\n",
    "# \"에어컨\",\n",
    "\"커피·티용품\",\n",
    "\"조명부속품\",\n",
    "\"센서등\",\n",
    "\"복합기·프린터·스캐너\",\n",
    "\"소파·생활커버\",\n",
    "\"이미용가전\",\n",
    "\"주방잡화\",\n",
    "\"그릇·홈세트\",\n",
    "\"후크·수납걸이\",\n",
    "\"데스크·디자인문구\",\n",
    "\"냄비·프라이팬·솥\",\n",
    "\"베이킹용품\",\n",
    "# \"세탁기·건조기\",\n",
    "\"거울\",\n",
    "\"매트리스·토퍼\",\n",
    "\"파티·이벤트용품\",\n",
    "\"해충퇴치기\",\n",
    "\"다이어리·플래너\",\n",
    "\"수세미걸이·세제통\",\n",
    "\"다리미·보풀제거기\",\n",
    "\"멀티탭·공유기정리함\",\n",
    "\"멀티탭·공유기정리함\",\n",
    "\"다리미·보풀제거기\",\n",
    "\"디자인문구\",\n",
    "\"보드게임\",\n",
    "\"리빙박스·바구니\",\n",
    "# \"가습기\",\n",
    "\"전기히터·온풍기\",\n",
    "\"전기·멀티포트\"\n",
    "]"
   ]
  },
  {
   "cell_type": "code",
   "execution_count": 442,
   "metadata": {},
   "outputs": [],
   "source": [
    "item.category.fillna(\"|\", inplace=True)"
   ]
  },
  {
   "cell_type": "code",
   "execution_count": 443,
   "metadata": {},
   "outputs": [],
   "source": [
    "import pickle\n",
    "with open(\"similarity_99243.pickle\", \"rb\") as pkl:\n",
    "    data = pickle.load(pkl)\n",
    "\n",
    "item[\"similarity_list\"] = data"
   ]
  },
  {
   "cell_type": "code",
   "execution_count": 444,
   "metadata": {},
   "outputs": [],
   "source": [
    "item_ = item[(~item.category.str.contains(\"|\".join(del_list))) & ~(item.category==\"|\")]"
   ]
  },
  {
   "cell_type": "code",
   "execution_count": 445,
   "metadata": {},
   "outputs": [
    {
     "data": {
      "text/plain": [
       "88634"
      ]
     },
     "execution_count": 445,
     "metadata": {},
     "output_type": "execute_result"
    }
   ],
   "source": [
    "len(item_)"
   ]
  },
  {
   "cell_type": "code",
   "execution_count": 446,
   "metadata": {},
   "outputs": [
    {
     "data": {
      "text/plain": [
       "[['002 애쉬 인 소파 페 브릭', '002 애쉬 인 소파 페 브릭', 69359, 1.0]]"
      ]
     },
     "execution_count": 446,
     "metadata": {},
     "output_type": "execute_result"
    }
   ],
   "source": [
    "(item_.iloc[6].similarity_list)"
   ]
  },
  {
   "cell_type": "code",
   "execution_count": 447,
   "metadata": {},
   "outputs": [
    {
     "name": "stderr",
     "output_type": "stream",
     "text": [
      "/tmp/ipykernel_26211/1535190289.py:1: SettingWithCopyWarning: \n",
      "A value is trying to be set on a copy of a slice from a DataFrame\n",
      "\n",
      "See the caveats in the documentation: https://pandas.pydata.org/pandas-docs/stable/user_guide/indexing.html#returning-a-view-versus-a-copy\n",
      "  item_.sort_values(\"item\", inplace=True)\n"
     ]
    }
   ],
   "source": [
    "item_.sort_values(\"item\", inplace=True)"
   ]
  },
  {
   "cell_type": "code",
   "execution_count": 448,
   "metadata": {},
   "outputs": [
    {
     "data": {
      "text/plain": [
       "[[['쿠키앤크림 사다리 책장 단', '쿠키앤크림 사다리 책장 종 택', 25490, 0.8666666666666667]]]"
      ]
     },
     "execution_count": 448,
     "metadata": {},
     "output_type": "execute_result"
    }
   ],
   "source": [
    "list(item_[item_.item == 356808].similarity_list)"
   ]
  },
  {
   "cell_type": "code",
   "execution_count": 449,
   "metadata": {},
   "outputs": [
    {
     "name": "stderr",
     "output_type": "stream",
     "text": [
      "/tmp/ipykernel_26211/3209520921.py:15: SettingWithCopyWarning: \n",
      "A value is trying to be set on a copy of a slice from a DataFrame.\n",
      "Try using .loc[row_indexer,col_indexer] = value instead\n",
      "\n",
      "See the caveats in the documentation: https://pandas.pydata.org/pandas-docs/stable/user_guide/indexing.html#returning-a-view-versus-a-copy\n",
      "  item_[\"similar_item_list\"] = item_.similarity_list.apply(lambda x:get_item(x, threshold))\n"
     ]
    }
   ],
   "source": [
    "CLUSTER_ID = 0\n",
    "NON_CLUSTER_ID = -1\n",
    "\n",
    "lim = 5\n",
    "threshold = 0.8\n",
    "\n",
    "# TODO threshold 이상의 similarity 가지는 아이템을 저장하는 list 칼럼 생성\n",
    "def get_item(x, threshold):\n",
    "    tmp = []\n",
    "    for a in x:\n",
    "        if a[3] >= threshold:\n",
    "            tmp.append(a[2])\n",
    "    return tmp\n",
    "\n",
    "item_[\"similar_item_list\"] = item_.similarity_list.apply(lambda x:get_item(x, threshold))"
   ]
  },
  {
   "cell_type": "code",
   "execution_count": 450,
   "metadata": {},
   "outputs": [
    {
     "data": {
      "text/html": [
       "<div>\n",
       "<style scoped>\n",
       "    .dataframe tbody tr th:only-of-type {\n",
       "        vertical-align: middle;\n",
       "    }\n",
       "\n",
       "    .dataframe tbody tr th {\n",
       "        vertical-align: top;\n",
       "    }\n",
       "\n",
       "    .dataframe thead th {\n",
       "        text-align: right;\n",
       "    }\n",
       "</style>\n",
       "<table border=\"1\" class=\"dataframe\">\n",
       "  <thead>\n",
       "    <tr style=\"text-align: right;\">\n",
       "      <th></th>\n",
       "      <th>item</th>\n",
       "      <th>category</th>\n",
       "      <th>rating</th>\n",
       "      <th>review</th>\n",
       "      <th>price</th>\n",
       "      <th>preprocessed_title</th>\n",
       "      <th>seller</th>\n",
       "      <th>discount_rate</th>\n",
       "      <th>image</th>\n",
       "      <th>available_product</th>\n",
       "      <th>predict_price</th>\n",
       "      <th>original_title</th>\n",
       "      <th>similarity_list</th>\n",
       "      <th>similar_item_list</th>\n",
       "    </tr>\n",
       "  </thead>\n",
       "  <tbody>\n",
       "    <tr>\n",
       "      <th>126402</th>\n",
       "      <td>356808</td>\n",
       "      <td>가구|진열장·책장|책장</td>\n",
       "      <td>별점 4.6점</td>\n",
       "      <td>(685)개 리뷰</td>\n",
       "      <td>91,100원</td>\n",
       "      <td>쿠키앤크림 사다리 책장 단</td>\n",
       "      <td>채우리</td>\n",
       "      <td>56%</td>\n",
       "      <td>https://image.ohou.se/i/bucketplace-v2-develop...</td>\n",
       "      <td>NaN</td>\n",
       "      <td>NaN</td>\n",
       "      <td>쿠키앤크림 사다리책장 4단 2colors</td>\n",
       "      <td>[[쿠키앤크림 사다리 책장 단, 쿠키앤크림 사다리 책장 종 택, 25490, 0.8...</td>\n",
       "      <td>[25490]</td>\n",
       "    </tr>\n",
       "  </tbody>\n",
       "</table>\n",
       "</div>"
      ],
      "text/plain": [
       "          item      category   rating     review    price preprocessed_title  \\\n",
       "126402  356808  가구|진열장·책장|책장  별점 4.6점  (685)개 리뷰  91,100원     쿠키앤크림 사다리 책장 단   \n",
       "\n",
       "       seller discount_rate  \\\n",
       "126402   채우리            56%   \n",
       "\n",
       "                                                    image available_product  \\\n",
       "126402  https://image.ohou.se/i/bucketplace-v2-develop...               NaN   \n",
       "\n",
       "       predict_price          original_title  \\\n",
       "126402           NaN  쿠키앤크림 사다리책장 4단 2colors   \n",
       "\n",
       "                                          similarity_list similar_item_list  \n",
       "126402  [[쿠키앤크림 사다리 책장 단, 쿠키앤크림 사다리 책장 종 택, 25490, 0.8...           [25490]  "
      ]
     },
     "execution_count": 450,
     "metadata": {},
     "output_type": "execute_result"
    }
   ],
   "source": [
    "item_[item_.item == 356808]"
   ]
  },
  {
   "cell_type": "code",
   "execution_count": 451,
   "metadata": {},
   "outputs": [],
   "source": [
    "graph = {item_id:sim_items for item_id, sim_items in zip(item_.item, item_.similar_item_list)}\n",
    "visited = {item_id:NON_CLUSTER_ID for item_id in item_.item}"
   ]
  },
  {
   "cell_type": "code",
   "execution_count": 452,
   "metadata": {},
   "outputs": [],
   "source": [
    "# 양방향 그래프로 만들기\n",
    "for item_id, sim_items in graph.items():\n",
    "    for item_id_ in sim_items:\n",
    "        try:\n",
    "            graph[item_id_].append(item_id)\n",
    "        except:\n",
    "            pass"
   ]
  },
  {
   "cell_type": "code",
   "execution_count": 453,
   "metadata": {},
   "outputs": [
    {
     "data": {
      "text/plain": [
       "88634"
      ]
     },
     "execution_count": 453,
     "metadata": {},
     "output_type": "execute_result"
    }
   ],
   "source": [
    "len(graph)"
   ]
  },
  {
   "cell_type": "code",
   "execution_count": 454,
   "metadata": {},
   "outputs": [
    {
     "data": {
      "text/plain": [
       "88634"
      ]
     },
     "execution_count": 454,
     "metadata": {},
     "output_type": "execute_result"
    }
   ],
   "source": [
    "len(visited)"
   ]
  },
  {
   "cell_type": "code",
   "execution_count": 455,
   "metadata": {},
   "outputs": [
    {
     "data": {
      "text/plain": [
       "14999"
      ]
     },
     "execution_count": 455,
     "metadata": {},
     "output_type": "execute_result"
    }
   ],
   "source": [
    "cnt = 0\n",
    "for g in graph.values():\n",
    "    if len(g) > 1:\n",
    "        cnt += 1\n",
    "cnt"
   ]
  },
  {
   "cell_type": "code",
   "execution_count": 456,
   "metadata": {},
   "outputs": [],
   "source": [
    "def BFS(item_id:int, cls_id):\n",
    "    from collections import deque\n",
    "    q = deque([(item_id, 0)])\n",
    "    visited[item_id] = cls_id\n",
    "    while(q):\n",
    "        node, hop = q.popleft()\n",
    "        if hop > lim:\n",
    "            return\n",
    "        try:\n",
    "            for id in graph[node]:\n",
    "                if visited[id] == -1: # 아직 클러스터링되지 않은 아이템인 경우\n",
    "                    visited[id] = cls_id\n",
    "                    q.append((id, hop + 1))\n",
    "        except:\n",
    "            pass"
   ]
  },
  {
   "cell_type": "code",
   "execution_count": 457,
   "metadata": {},
   "outputs": [
    {
     "name": "stderr",
     "output_type": "stream",
     "text": [
      "100%|██████████| 88634/88634 [00:00<00:00, 539827.99it/s]\n"
     ]
    }
   ],
   "source": [
    "for item_id in tqdm(graph.keys()):\n",
    "    if visited[item_id] == NON_CLUSTER_ID and len(graph[item_id]) > 0:\n",
    "        BFS(item_id, CLUSTER_ID)\n",
    "        CLUSTER_ID += 1"
   ]
  },
  {
   "cell_type": "code",
   "execution_count": 458,
   "metadata": {},
   "outputs": [
    {
     "name": "stderr",
     "output_type": "stream",
     "text": [
      "/tmp/ipykernel_26211/1113527780.py:1: SettingWithCopyWarning: \n",
      "A value is trying to be set on a copy of a slice from a DataFrame.\n",
      "Try using .loc[row_indexer,col_indexer] = value instead\n",
      "\n",
      "See the caveats in the documentation: https://pandas.pydata.org/pandas-docs/stable/user_guide/indexing.html#returning-a-view-versus-a-copy\n",
      "  item_[\"cls_id\"] = item_.item.map(visited)\n"
     ]
    }
   ],
   "source": [
    "item_[\"cls_id\"] = item_.item.map(visited)"
   ]
  },
  {
   "cell_type": "code",
   "execution_count": 459,
   "metadata": {},
   "outputs": [
    {
     "data": {
      "text/html": [
       "<div>\n",
       "<style scoped>\n",
       "    .dataframe tbody tr th:only-of-type {\n",
       "        vertical-align: middle;\n",
       "    }\n",
       "\n",
       "    .dataframe tbody tr th {\n",
       "        vertical-align: top;\n",
       "    }\n",
       "\n",
       "    .dataframe thead th {\n",
       "        text-align: right;\n",
       "    }\n",
       "</style>\n",
       "<table border=\"1\" class=\"dataframe\">\n",
       "  <thead>\n",
       "    <tr style=\"text-align: right;\">\n",
       "      <th></th>\n",
       "      <th>item</th>\n",
       "      <th>category</th>\n",
       "      <th>rating</th>\n",
       "      <th>review</th>\n",
       "      <th>price</th>\n",
       "      <th>preprocessed_title</th>\n",
       "      <th>seller</th>\n",
       "      <th>discount_rate</th>\n",
       "      <th>image</th>\n",
       "      <th>available_product</th>\n",
       "      <th>predict_price</th>\n",
       "      <th>original_title</th>\n",
       "      <th>similarity_list</th>\n",
       "      <th>similar_item_list</th>\n",
       "      <th>cls_id</th>\n",
       "    </tr>\n",
       "  </thead>\n",
       "  <tbody>\n",
       "    <tr>\n",
       "      <th>2215</th>\n",
       "      <td>1</td>\n",
       "      <td>가구|서랍·수납장|수납장</td>\n",
       "      <td>별점 4.2점</td>\n",
       "      <td>(67)개 리뷰</td>\n",
       "      <td>NaN</td>\n",
       "      <td>66808</td>\n",
       "      <td>DRAWER</td>\n",
       "      <td>NaN</td>\n",
       "      <td>https://image.ohou.se/i/bucketplace-v2-develop...</td>\n",
       "      <td>미입점</td>\n",
       "      <td>예상가정보없음사이즈59.0 × 37.0 × 90.0 (cm)출처www.casa.co.kr</td>\n",
       "      <td>66808</td>\n",
       "      <td>[]</td>\n",
       "      <td>[]</td>\n",
       "      <td>-1</td>\n",
       "    </tr>\n",
       "  </tbody>\n",
       "</table>\n",
       "</div>"
      ],
      "text/plain": [
       "      item       category   rating    review price preprocessed_title  \\\n",
       "2215     1  가구|서랍·수납장|수납장  별점 4.2점  (67)개 리뷰   NaN              66808   \n",
       "\n",
       "       seller discount_rate  \\\n",
       "2215  DRAWER            NaN   \n",
       "\n",
       "                                                  image available_product  \\\n",
       "2215  https://image.ohou.se/i/bucketplace-v2-develop...               미입점   \n",
       "\n",
       "                                          predict_price original_title  \\\n",
       "2215  예상가정보없음사이즈59.0 × 37.0 × 90.0 (cm)출처www.casa.co.kr          66808   \n",
       "\n",
       "     similarity_list similar_item_list  cls_id  \n",
       "2215              []                []      -1  "
      ]
     },
     "execution_count": 459,
     "metadata": {},
     "output_type": "execute_result"
    }
   ],
   "source": [
    "item_.head(1)"
   ]
  },
  {
   "cell_type": "code",
   "execution_count": 460,
   "metadata": {},
   "outputs": [],
   "source": [
    "item_.loc[item_.preprocessed_title.str.contains(\"etc|ETC\"), \"cls_id\"] = -1"
   ]
  },
  {
   "cell_type": "code",
   "execution_count": 461,
   "metadata": {},
   "outputs": [
    {
     "data": {
      "text/plain": [
       "493"
      ]
     },
     "execution_count": 461,
     "metadata": {},
     "output_type": "execute_result"
    }
   ],
   "source": [
    "cnt  = 0\n",
    "for k, v in Counter(visited.values()).items():\n",
    "    if v == 1:\n",
    "        cnt += 1\n",
    "cnt"
   ]
  },
  {
   "cell_type": "code",
   "execution_count": 462,
   "metadata": {},
   "outputs": [
    {
     "data": {
      "text/plain": [
       "493"
      ]
     },
     "execution_count": 462,
     "metadata": {},
     "output_type": "execute_result"
    }
   ],
   "source": [
    "not_clustered_item = []\n",
    "c = Counter(visited.values())\n",
    "for k, v in visited.items():\n",
    "    if c[v] == 1:\n",
    "        not_clustered_item.append(k)\n",
    "len(not_clustered_item)"
   ]
  },
  {
   "cell_type": "code",
   "execution_count": 463,
   "metadata": {},
   "outputs": [],
   "source": [
    "for item_id in not_clustered_item:\n",
    "    # 자신과 이웃인 item의 cluster_group을 찾아서 바꿔주기\n",
    "    group_candidates = []\n",
    "    for neighbor_item_id in graph[item_id]:\n",
    "        try:\n",
    "            group_candidates.append(visited[neighbor_item_id])\n",
    "        except:\n",
    "            pass\n",
    "    CNT = Counter(group_candidates)\n",
    "    if len(CNT) >= 2:\n",
    "        tmp = CNT.most_common(2)\n",
    "        if tmp[0][0] == -1: # 가장 빈도 높은 클러스터가 클러스터링이 안되어있을 때 : -1\n",
    "            final_cls_id = tmp[1][0] # 나머지 모든 item을 2등 최빈 클러스터로 묶어줌\n",
    "            for neighbor_item_id in graph[item_id] + [item_id]:\n",
    "                visited[neighbor_item_id] = final_cls_id\n",
    "        else:\n",
    "            final_cls_id = tmp[0][0] # 나머지 모든 item을 1등 최빈 클러스터로 묶어줌\n",
    "            for neighbor_item_id in graph[item_id] + [item_id]:\n",
    "                visited[neighbor_item_id] = final_cls_id\n",
    "    elif len(CNT) == 1:\n",
    "        tmp = CNT.most_common(1)\n",
    "        if tmp[0][0] == -1: # 클러스터가 클러스터링이 안되어있을 때 : -1\n",
    "            final_cls_id = tmp[1][0] # 나머지 모든 item을 not_clustered_item의 클러스터로 묶어줌\n",
    "            for neighbor_item_id in graph[item_id] + [item_id]:\n",
    "                visited[neighbor_item_id] = final_cls_id\n",
    "        else:\n",
    "            final_cls_id = tmp[0][0] # 나머지 모든 item을 1등 최빈 클러스터로 묶어줌\n",
    "            for neighbor_item_id in graph[item_id] + [item_id]:\n",
    "                visited[neighbor_item_id] = final_cls_id\n",
    "    else: # 이웃들이 모두 잘려나간 카테고리에 포함되는 경우 -> -1로 처리\n",
    "        visited[item_id] = -1"
   ]
  },
  {
   "cell_type": "code",
   "execution_count": 464,
   "metadata": {},
   "outputs": [
    {
     "data": {
      "text/plain": [
       "2"
      ]
     },
     "execution_count": 464,
     "metadata": {},
     "output_type": "execute_result"
    }
   ],
   "source": [
    "not_clustered_item = []\n",
    "c = Counter(visited.values())\n",
    "for k, v in visited.items():\n",
    "    if c[v] == 1:\n",
    "        not_clustered_item.append(k)\n",
    "len(not_clustered_item)"
   ]
  },
  {
   "cell_type": "code",
   "execution_count": 465,
   "metadata": {},
   "outputs": [],
   "source": [
    "for item_id in not_clustered_item:\n",
    "    visited[item_id] = -1"
   ]
  },
  {
   "cell_type": "code",
   "execution_count": 466,
   "metadata": {},
   "outputs": [
    {
     "data": {
      "text/plain": [
       "0"
      ]
     },
     "execution_count": 466,
     "metadata": {},
     "output_type": "execute_result"
    }
   ],
   "source": [
    "not_clustered_item = []\n",
    "c = Counter(visited.values())\n",
    "for k, v in visited.items():\n",
    "    if c[v] == 1:\n",
    "        not_clustered_item.append(k)\n",
    "len(not_clustered_item)"
   ]
  },
  {
   "cell_type": "code",
   "execution_count": 467,
   "metadata": {},
   "outputs": [],
   "source": [
    "# 모든 클러스터를 처리함"
   ]
  },
  {
   "cell_type": "code",
   "execution_count": 468,
   "metadata": {},
   "outputs": [
    {
     "data": {
      "text/plain": [
       "88760"
      ]
     },
     "execution_count": 468,
     "metadata": {},
     "output_type": "execute_result"
    }
   ],
   "source": [
    "len(visited)"
   ]
  },
  {
   "cell_type": "code",
   "execution_count": 469,
   "metadata": {},
   "outputs": [
    {
     "data": {
      "text/plain": [
       "88634"
      ]
     },
     "execution_count": 469,
     "metadata": {},
     "output_type": "execute_result"
    }
   ],
   "source": [
    "len(item_)"
   ]
  },
  {
   "cell_type": "code",
   "execution_count": 470,
   "metadata": {},
   "outputs": [
    {
     "name": "stderr",
     "output_type": "stream",
     "text": [
      "/tmp/ipykernel_26211/1011874532.py:2: SettingWithCopyWarning: \n",
      "A value is trying to be set on a copy of a slice from a DataFrame.\n",
      "Try using .loc[row_indexer,col_indexer] = value instead\n",
      "\n",
      "See the caveats in the documentation: https://pandas.pydata.org/pandas-docs/stable/user_guide/indexing.html#returning-a-view-versus-a-copy\n",
      "  item_[\"cls_id\"] = item_.item.map(visited)\n"
     ]
    }
   ],
   "source": [
    "# 개수 차이가 나는 이유는 visited의 일부가 잘려나간 카테고리에 포함되기 때문\n",
    "item_[\"cls_id\"] = item_.item.map(visited)"
   ]
  },
  {
   "cell_type": "code",
   "execution_count": 473,
   "metadata": {},
   "outputs": [
    {
     "data": {
      "text/plain": [
       "25039"
      ]
     },
     "execution_count": 473,
     "metadata": {},
     "output_type": "execute_result"
    }
   ],
   "source": [
    "len(item_[item_.cls_id != -1])\n",
    "# 전체 88634 item 중에 25039개에 해당하는 아이템을 클러스터링함. (28.2%)"
   ]
  },
  {
   "cell_type": "code",
   "execution_count": 478,
   "metadata": {},
   "outputs": [],
   "source": [
    "from time import time\n",
    "\n",
    "now = str(round(time()))[5:]\n",
    "item_.to_csv(f\"clustered_item_{now}.csv\", index=False)"
   ]
  },
  {
   "cell_type": "code",
   "execution_count": null,
   "metadata": {},
   "outputs": [],
   "source": []
  }
 ],
 "metadata": {
  "kernelspec": {
   "display_name": "base",
   "language": "python",
   "name": "python3"
  },
  "language_info": {
   "codemirror_mode": {
    "name": "ipython",
    "version": 3
   },
   "file_extension": ".py",
   "mimetype": "text/x-python",
   "name": "python",
   "nbconvert_exporter": "python",
   "pygments_lexer": "ipython3",
   "version": "3.8.5"
  },
  "orig_nbformat": 4,
  "vscode": {
   "interpreter": {
    "hash": "d4d1e4263499bec80672ea0156c357c1ee493ec2b1c70f0acce89fc37c4a6abe"
   }
  }
 },
 "nbformat": 4,
 "nbformat_minor": 2
}
